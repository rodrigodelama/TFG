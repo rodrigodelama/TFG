{
 "cells": [
  {
   "cell_type": "markdown",
   "id": "783d51cd",
   "metadata": {},
   "source": [
    "# End-to-End Time Series Forecasting with RF, LSTM, and Prophet"
   ]
  },
  {
   "cell_type": "markdown",
   "id": "72b499e6",
   "metadata": {},
   "source": [
    "\n",
    "This notebook demonstrates a complete time series forecasting pipeline on daily energy prices using:\n",
    "- Feature-engineered **Random Forest**\n",
    "- Deep learning with **LSTM**\n",
    "- Time series modeling with **Prophet**\n",
    "\n",
    "Each model is evaluated and compared using MAE and RMSE.\n"
   ]
  },
  {
   "cell_type": "code",
   "execution_count": 2,
   "id": "5eb28932",
   "metadata": {},
   "outputs": [
    {
     "name": "stdout",
     "output_type": "stream",
     "text": [
      "[PhysicalDevice(name='/physical_device:GPU:0', device_type='GPU')]\n"
     ]
    }
   ],
   "source": [
    "\n",
    "import pandas as pd\n",
    "import numpy as np\n",
    "import matplotlib.pyplot as plt\n",
    "from sklearn.ensemble import RandomForestRegressor\n",
    "from sklearn.metrics import mean_absolute_error, mean_squared_error\n",
    "from sklearn.model_selection import train_test_split\n",
    "import seaborn as sns\n",
    "\n",
    "# For LSTM\n",
    "from tensorflow.keras.models import Sequential\n",
    "from tensorflow.keras.layers import LSTM, Dense\n",
    "# from keras.models import Sequential\n",
    "# from keras.layers import LSTM, Dense\n",
    "from sklearn.preprocessing import MinMaxScaler\n",
    "\n",
    "# For Prophet\n",
    "from prophet import Prophet\n",
    "\n",
    "import tensorflow as tf\n",
    "print(tf.config.list_physical_devices('GPU'))\n"
   ]
  },
  {
   "cell_type": "code",
   "execution_count": null,
   "id": "b1d32efe",
   "metadata": {},
   "outputs": [],
   "source": [
    "\n",
    "# Sample data\n",
    "data = {\n",
    "    \"Datetime\": pd.date_range(start=\"2018-01-01\", periods=1000, freq='D'),\n",
    "    \"MarginalES\": np.random.rand(1000) * 100\n",
    "}\n",
    "df = pd.DataFrame(data)\n",
    "\n",
    "# Extract date features\n",
    "df['dayofweek'] = df['Datetime'].dt.dayofweek\n",
    "df['month'] = df['Datetime'].dt.month\n",
    "df['dayofyear'] = df['Datetime'].dt.dayofyear\n",
    "df.set_index('Datetime', inplace=True)\n",
    "\n",
    "# Create lagged features\n",
    "for lag in range(1, 8):\n",
    "    df[f\"lag_{lag}\"] = df[\"MarginalES\"].shift(lag)\n",
    "\n",
    "df.dropna(inplace=True)\n"
   ]
  },
  {
   "cell_type": "code",
   "execution_count": null,
   "id": "fb7f9eb0",
   "metadata": {},
   "outputs": [],
   "source": [
    "\n",
    "features = [col for col in df.columns if col != \"MarginalES\"]\n",
    "X = df[features]\n",
    "y = df[\"MarginalES\"]\n",
    "\n",
    "X_train, X_temp, y_train, y_temp = train_test_split(X, y, test_size=0.2, shuffle=False)\n",
    "X_val, X_test, y_val, y_test = train_test_split(X_temp, y_temp, test_size=0.5, shuffle=False)\n"
   ]
  },
  {
   "cell_type": "code",
   "execution_count": null,
   "id": "1f59fae9",
   "metadata": {},
   "outputs": [],
   "source": [
    "\n",
    "model = RandomForestRegressor(n_estimators=100, random_state=42)\n",
    "model.fit(X_train, y_train)\n",
    "\n",
    "def evaluate(y_true, y_pred, label=\"Set\"):\n",
    "    mae = mean_absolute_error(y_true, y_pred)\n",
    "    rmse = mean_squared_error(y_true, y_pred, squared=False)\n",
    "    print(f\"{label} MAE: {mae:.2f}\")\n",
    "    print(f\"{label} RMSE: {rmse:.2f}\")\n",
    "    return mae, rmse\n",
    "\n",
    "print(\"Random Forest Evaluation\")\n",
    "evaluate(y_val, model.predict(X_val), \"Validation\")\n",
    "evaluate(y_test, model.predict(X_test), \"Test\")\n"
   ]
  },
  {
   "cell_type": "code",
   "execution_count": null,
   "id": "b4939b33",
   "metadata": {},
   "outputs": [],
   "source": [
    "\n",
    "# Scale features\n",
    "scaler = MinMaxScaler()\n",
    "X_scaled = scaler.fit_transform(X)\n",
    "\n",
    "# Prepare LSTM format: [samples, time steps, features]\n",
    "def create_sequences(X, y, timesteps=7):\n",
    "    Xs, ys = [], []\n",
    "    for i in range(timesteps, len(X)):\n",
    "        Xs.append(X[i-timesteps:i])\n",
    "        ys.append(y[i])\n",
    "    return np.array(Xs), np.array(ys)\n",
    "\n",
    "X_lstm, y_lstm = create_sequences(X_scaled, y.values, timesteps=7)\n",
    "\n",
    "# Train/val/test\n",
    "split1 = int(0.8 * len(X_lstm))\n",
    "split2 = int(0.9 * len(X_lstm))\n",
    "X_train_lstm, X_val_lstm, X_test_lstm = X_lstm[:split1], X_lstm[split1:split2], X_lstm[split2:]\n",
    "y_train_lstm, y_val_lstm, y_test_lstm = y_lstm[:split1], y_lstm[split1:split2], y_lstm[split2:]\n",
    "\n",
    "model_lstm = Sequential([\n",
    "    LSTM(64, activation='relu', input_shape=(X_train_lstm.shape[1], X_train_lstm.shape[2])),\n",
    "    Dense(1)\n",
    "])\n",
    "model_lstm.compile(optimizer='adam', loss='mse')\n",
    "model_lstm.fit(X_train_lstm, y_train_lstm, epochs=10, validation_data=(X_val_lstm, y_val_lstm), verbose=1)\n",
    "\n",
    "print(\"LSTM Evaluation\")\n",
    "evaluate(y_val_lstm, model_lstm.predict(X_val_lstm).flatten(), \"Validation\")\n",
    "evaluate(y_test_lstm, model_lstm.predict(X_test_lstm).flatten(), \"Test\")\n"
   ]
  },
  {
   "cell_type": "code",
   "execution_count": null,
   "id": "575a88fc",
   "metadata": {},
   "outputs": [],
   "source": [
    "\n",
    "# Rebuild Prophet-compatible dataset\n",
    "df_prophet = df[['MarginalES']].copy().reset_index()\n",
    "df_prophet.columns = ['ds', 'y']\n",
    "\n",
    "# Split for Prophet\n",
    "train_prophet = df_prophet[:-60]\n",
    "test_prophet = df_prophet[-60:]\n",
    "\n",
    "model_prophet = Prophet()\n",
    "model_prophet.fit(train_prophet)\n",
    "\n",
    "future = model_prophet.make_future_dataframe(periods=60)\n",
    "forecast = model_prophet.predict(future)\n",
    "\n",
    "# Evaluate Prophet\n",
    "pred = forecast[['ds', 'yhat']].set_index('ds').join(test_prophet.set_index('ds'))\n",
    "evaluate(pred['y'], pred['yhat'], label=\"Prophet Test\")\n",
    "\n",
    "fig = model_prophet.plot(forecast)\n",
    "plt.title(\"Prophet Forecast\")\n",
    "plt.show()\n"
   ]
  }
 ],
 "metadata": {
  "kernelspec": {
   "display_name": ".tfg_ts_venv",
   "language": "python",
   "name": "python3"
  },
  "language_info": {
   "codemirror_mode": {
    "name": "ipython",
    "version": 3
   },
   "file_extension": ".py",
   "mimetype": "text/x-python",
   "name": "python",
   "nbconvert_exporter": "python",
   "pygments_lexer": "ipython3",
   "version": "3.11.12"
  }
 },
 "nbformat": 4,
 "nbformat_minor": 5
}
