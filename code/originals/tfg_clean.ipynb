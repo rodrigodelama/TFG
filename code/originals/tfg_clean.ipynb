{
 "cells": [
  {
   "cell_type": "markdown",
   "metadata": {},
   "source": [
    "# TFG\n",
    "## Machine Learning-Based Predictive Modeling of Energy Prices\n",
    "### Rodrigo De Lama Fernández\n",
    "### Emilio Parrado Hernández"
   ]
  },
  {
   "cell_type": "markdown",
   "metadata": {},
   "source": [
    "# Index\n",
    "1."
   ]
  },
  {
   "cell_type": "code",
   "execution_count": null,
   "metadata": {},
   "outputs": [],
   "source": [
    "# Imports\n",
    "import pandas as pd\n",
    "\n",
    "from sklearn.linear_model import LinearRegression\n",
    "from sklearn.metrics import mean_squared_error, r2_score\n",
    "\n",
    "import matplotlib.pyplot as plt"
   ]
  },
  {
   "cell_type": "code",
   "execution_count": null,
   "metadata": {},
   "outputs": [],
   "source": [
    "# # Always run first\n",
    "# import os\n",
    "# import logging\n",
    "\n",
    "# # Set the environment variable to enable debugging\n",
    "# os.environ['TFG_DEBUG'] = '1'\n",
    "# del os.environ['TFG_DEBUG'] # Delete it for the time being\n",
    "\n",
    "# # if os.getenv('TFG_DEBUG', '1'):\n",
    "# if os.getenv('TFG_DEBUG') == '1':\n",
    "#     logging.basicConfig(level=logging.DEBUG)\n",
    "#     logger = logging.getLogger(__name__)\n",
    "#     logger.debug(\"Debugging is enabled. [Main IPYNB]\")\n",
    "\n",
    "# logging.basicConfig(level=logging.WARNING)\n",
    "\n",
    "# # Remove the environment variable after use\n",
    "# # del os.environ['TFG_DEBUG']\n",
    "\n",
    "# Always run first - Proper logging setup\n",
    "import os\n",
    "import logging\n",
    "\n",
    "# Clear any existing handlers to avoid duplicate logs\n",
    "for handler in logging.root.handlers[:]:\n",
    "    logging.root.removeHandler(handler)\n",
    "\n",
    "# Set up logging based on environment variable\n",
    "if os.getenv('TFG_DEBUG') == '1':\n",
    "    logging.basicConfig(\n",
    "        level=logging.DEBUG,\n",
    "        format='%(asctime)s - %(name)s - %(levelname)s - %(message)s'\n",
    "    )\n",
    "else:\n",
    "    logging.basicConfig(\n",
    "        level=logging.WARNING,\n",
    "        format='%(asctime)s - %(name)s - %(levelname)s - %(message)s'\n",
    "    )\n",
    "\n",
    "# Get logger for this module\n",
    "logger = logging.getLogger(__name__)\n",
    "\n",
    "# Test logging\n",
    "logger.debug(\"Debugging is enabled\")\n",
    "logger.warning(\"This warning should always appear\")"
   ]
  },
  {
   "cell_type": "code",
   "execution_count": null,
   "metadata": {},
   "outputs": [],
   "source": [
    "# Main libraries\n",
    "import pandas as pd\n",
    "import numpy as np\n",
    "import matplotlib.pyplot as plt\n",
    "import os\n",
    "\n",
    "# Preprocessing\n",
    "from sklearn.preprocessing import StandardScaler\n",
    "from sklearn.preprocessing import PolynomialFeatures\n",
    "from sklearn.preprocessing import OneHotEncoder\n",
    "\n",
    "# Feature selection\n",
    "from sklearn.feature_selection import SelectKBest\n",
    "from sklearn.feature_selection import f_regression\n",
    "from sklearn.feature_selection import mutual_info_regression\n",
    "from sklearn.feature_selection import SelectFromModel\n",
    "from sklearn.feature_selection import RFE\n",
    "from sklearn.feature_selection import RFECV\n",
    "from sklearn.feature_selection import VarianceThreshold\n",
    "\n",
    "# Pipelines\n",
    "from sklearn.pipeline import Pipeline\n",
    "from sklearn.pipeline import FeatureUnion\n",
    "\n",
    "# Cross-validation\n",
    "from sklearn.model_selection import cross_val_score\n",
    "\n",
    "# Package import Cache clear\n",
    "import sys\n",
    "sys.path.append('/Users/rodrigodelama/Library/Mobile Documents/com~apple~CloudDocs/uc3m/TFG/code')\n",
    "\n",
    "import importlib\n",
    "import utils.basic_plots\n",
    "importlib.reload(utils.basic_plots)\n",
    "importlib.reload(utils.mini_models)\n",
    "\n",
    "# Utilities\n",
    "# Do proper imports not this\n",
    "# from utils.sliding_window import *\n",
    "from utils.sliding_window import create_weight_matrix, create_weight_matrix_with_features\n",
    "# from utils.basic_plots import *\n",
    "from utils.basic_plots import plot_actual_vs_predicted, plot_error, plot_feature_importance\n",
    "from utils.mini_models import mini_model\n",
    "\n",
    "# Models\n",
    "from sklearn.linear_model import LinearRegression\n",
    "from sklearn.linear_model import Lasso\n",
    "from sklearn.linear_model import Ridge\n",
    "from sklearn.ensemble import RandomForestRegressor\n",
    "from xgboost import XGBRegressor\n",
    "import lightgbm as lgb\n",
    "\n",
    "# Testing split\n",
    "from sklearn.model_selection import train_test_split\n",
    "\n",
    "# Evaluation\n",
    "from sklearn.metrics import mean_squared_error, r2_score"
   ]
  },
  {
   "cell_type": "markdown",
   "metadata": {},
   "source": [
    "Data Analysis and Cleansing"
   ]
  },
  {
   "cell_type": "markdown",
   "metadata": {},
   "source": [
    "Filtering only to the price at 14:00"
   ]
  },
  {
   "cell_type": "markdown",
   "metadata": {},
   "source": []
  }
 ],
 "metadata": {
  "kernelspec": {
   "display_name": ".tfg_venv",
   "language": "python",
   "name": "python3"
  },
  "language_info": {
   "name": "python",
   "version": "3.13.2"
  }
 },
 "nbformat": 4,
 "nbformat_minor": 2
}
