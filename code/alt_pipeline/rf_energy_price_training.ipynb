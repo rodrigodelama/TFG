{
 "cells": [
  {
   "cell_type": "markdown",
   "id": "d8a261bc",
   "metadata": {},
   "source": [
    "# 🤖 Model Training: Random Forest for Daily Energy Prices"
   ]
  },
  {
   "cell_type": "code",
   "execution_count": null,
   "id": "fd8c9c8d",
   "metadata": {},
   "outputs": [],
   "source": [
    "# 📦 Libraries\n",
    "import pandas as pd\n",
    "import numpy as np\n",
    "from sklearn.ensemble import RandomForestRegressor\n",
    "from sklearn.metrics import mean_absolute_error, mean_squared_error\n",
    "from sklearn.model_selection import TimeSeriesSplit\n",
    "import matplotlib.pyplot as plt\n",
    "import seaborn as sns\n"
   ]
  },
  {
   "cell_type": "markdown",
   "id": "1968fd11",
   "metadata": {},
   "source": [
    "## 1. Load & Prepare Data"
   ]
  },
  {
   "cell_type": "code",
   "execution_count": null,
   "id": "81d9476f",
   "metadata": {},
   "outputs": [],
   "source": [
    "# Load preprocessed data (after lag, rolling, etc.)\n",
    "df = pd.read_csv(\"your_preprocessed_data.csv\", parse_dates=[\"Datetime\"], index_col=\"Datetime\")\n",
    "df = df.dropna()  # drop NA rows caused by shifting/rolling\n",
    "\n",
    "# Features and target\n",
    "features = ['lag_1', 'lag_7', 'rolling_mean_7', 'rolling_std_7', 'dayofweek', 'month', 'dayofyear']\n",
    "target = 'MarginalES'\n",
    "X = df[features]\n",
    "y = df[target]\n"
   ]
  },
  {
   "cell_type": "markdown",
   "id": "bf95d8e8",
   "metadata": {},
   "source": [
    "## 2. Train/Validation/Test Split (Chronological)"
   ]
  },
  {
   "cell_type": "code",
   "execution_count": null,
   "id": "df70388f",
   "metadata": {},
   "outputs": [],
   "source": [
    "# Chronological split: 70% train, 15% val, 15% test\n",
    "split_1 = int(len(df) * 0.7)\n",
    "split_2 = int(len(df) * 0.85)\n",
    "X_train, y_train = X.iloc[:split_1], y.iloc[:split_1]\n",
    "X_val, y_val = X.iloc[split_1:split_2], y.iloc[split_1:split_2]\n",
    "X_test, y_test = X.iloc[split_2:], y.iloc[split_2:]\n"
   ]
  },
  {
   "cell_type": "markdown",
   "id": "cf81630e",
   "metadata": {},
   "source": [
    "## 3. Train Random Forest Regressor"
   ]
  },
  {
   "cell_type": "code",
   "execution_count": null,
   "id": "aac7d8ac",
   "metadata": {},
   "outputs": [],
   "source": [
    "model = RandomForestRegressor(n_estimators=100, random_state=42)\n",
    "model.fit(X_train, y_train)\n"
   ]
  },
  {
   "cell_type": "markdown",
   "id": "79ec0843",
   "metadata": {},
   "source": [
    "## 4. Evaluation"
   ]
  },
  {
   "cell_type": "code",
   "execution_count": null,
   "id": "55285e85",
   "metadata": {},
   "outputs": [],
   "source": [
    "def evaluate(y_true, y_pred, label=\"Set\"):\n",
    "    mae = mean_absolute_error(y_true, y_pred)\n",
    "    rmse = mean_squared_error(y_true, y_pred, squared=False)\n",
    "    print(f\"{label} MAE: {mae:.2f}\")\n",
    "    print(f\"{label} RMSE: {rmse:.2f}\")\n",
    "    return mae, rmse\n",
    "\n",
    "# Validation\n",
    "y_val_pred = model.predict(X_val)\n",
    "evaluate(y_val, y_val_pred, label=\"Validation\")\n",
    "\n",
    "# Test\n",
    "y_test_pred = model.predict(X_test)\n",
    "evaluate(y_test, y_test_pred, label=\"Test\")\n"
   ]
  },
  {
   "cell_type": "markdown",
   "id": "f4e6db93",
   "metadata": {},
   "source": [
    "## 5. Plot Results"
   ]
  },
  {
   "cell_type": "code",
   "execution_count": null,
   "id": "284531b4",
   "metadata": {},
   "outputs": [],
   "source": [
    "plt.figure(figsize=(14,6))\n",
    "plt.plot(y_test.index, y_test, label='Actual', marker='o')\n",
    "plt.plot(y_test.index, y_test_pred, label='Predicted', marker='x')\n",
    "plt.title(\"Random Forest Prediction vs Actual\")\n",
    "plt.xlabel(\"Date\")\n",
    "plt.ylabel(\"€/MWh\")\n",
    "plt.legend()\n",
    "plt.grid(True)\n",
    "plt.tight_layout()\n"
   ]
  },
  {
   "cell_type": "markdown",
   "id": "bef0f5cd",
   "metadata": {},
   "source": [
    "## ✅ Next: Hyperparameter tuning or model comparison"
   ]
  }
 ],
 "metadata": {},
 "nbformat": 4,
 "nbformat_minor": 5
}
