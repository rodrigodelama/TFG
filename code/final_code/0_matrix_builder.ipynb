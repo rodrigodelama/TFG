{
 "cells": [
  {
   "cell_type": "code",
   "execution_count": 25,
   "id": "f6317597",
   "metadata": {},
   "outputs": [],
   "source": [
    "import pandas as pd\n",
    "from utils.matrix_builder import create_feature_matrix\n",
    "\n",
    "# read data\n",
    "csv_hour_file = '../data/ta_metrics/final_price_ta_metrics.csv'\n",
    "simple_df = pd.read_csv(csv_hour_file, parse_dates=['Datetime'])\n",
    "simple_df = simple_df[['Datetime', 'MarginalES']]\n",
    "\n",
    "# Sliding window of 6 days\n",
    "train_start_date = '2019-01-01'\n",
    "train_end_date = '2019-01-07'\n",
    "\n",
    "simple_subset = simple_df[(simple_df['Datetime'] >= train_start_date) & (simple_df['Datetime'] <= train_end_date)]\n",
    "\n",
    "# Number of previous days as columns (features)\n",
    "lag_price_window = 3\n",
    "\n",
    "X_simple, y_simple = create_feature_matrix(simple_subset, lag_price_window)"
   ]
  },
  {
   "cell_type": "code",
   "execution_count": 24,
   "id": "e0516db3",
   "metadata": {},
   "outputs": [
    {
     "name": "stdout",
     "output_type": "stream",
     "text": [
      "       0      1      2\n",
      "0  65.88  63.16  66.70\n",
      "1  63.16  66.70  69.17\n",
      "2  66.70  69.17  64.00\n",
      "0    69.17\n",
      "1    64.00\n",
      "2    64.86\n",
      "dtype: float64\n"
     ]
    }
   ],
   "source": [
    "print(X_simple)\n",
    "print(y_simple)"
   ]
  },
  {
   "cell_type": "code",
   "execution_count": 26,
   "id": "f9ab1796",
   "metadata": {},
   "outputs": [
    {
     "name": "stdout",
     "output_type": "stream",
     "text": [
      "               Datetime  MarginalES\n",
      "187 2019-01-01 14:00:00       65.88\n",
      "188 2019-01-02 14:00:00       63.16\n",
      "189 2019-01-03 14:00:00       66.70\n",
      "190 2019-01-04 14:00:00       69.17\n",
      "191 2019-01-05 14:00:00       64.00\n",
      "192 2019-01-06 14:00:00       64.86\n"
     ]
    }
   ],
   "source": [
    "import pandas as pd\n",
    "from utils.matrix_builder import create_feature_matrix, create_expanded_feature_matrix\n",
    "\n",
    "# read data\n",
    "csv_hour_file = '../data/ta_metrics/final_price_ta_metrics.csv'\n",
    "\n",
    "features_df = pd.read_csv(csv_hour_file, parse_dates=['Datetime'])\n",
    "simple_df = features_df[['Datetime', 'MarginalES']]\n",
    "\n",
    "# Sliding window of 9 days for training\n",
    "train_start_date = '2019-01-01'\n",
    "train_end_date = '2019-01-07'\n",
    "\n",
    "simple_subset = simple_df[(simple_df['Datetime'] >= train_start_date) & (simple_df['Datetime'] <= train_end_date)]\n",
    "feature_subset = features_df[(features_df['Datetime'] >= train_start_date) & (features_df['Datetime'] <= train_end_date)]\n",
    "\n",
    "lag_price_window = 3\n",
    "\n",
    "# Print simple subset\n",
    "print(simple_subset)"
   ]
  },
  {
   "cell_type": "code",
   "execution_count": 10,
   "id": "4bb6f9f8",
   "metadata": {},
   "outputs": [
    {
     "name": "stdout",
     "output_type": "stream",
     "text": [
      "Prices array: [65.88 63.16 66.7  69.17 64.   64.86 68.74 67.97 64.25]\n",
      "Length of prices: 9\n",
      "Window size: 3\n",
      "Expected samples: 6\n",
      "Range: [0, 1, 2, 3, 4, 5]\n"
     ]
    }
   ],
   "source": [
    "# Add this to test the function\n",
    "def debug_create_feature_matrix(data, lag_price_window):\n",
    "    if 'MarginalES' in data.columns:\n",
    "        prices = data['MarginalES'].values\n",
    "    else:\n",
    "        prices = data.iloc[:, 1].values\n",
    "    \n",
    "    print(f\"Prices array: {prices}\")\n",
    "    print(f\"Length of prices: {len(prices)}\")\n",
    "    print(f\"Window size: {lag_price_window}\")\n",
    "    print(f\"Expected samples: {len(prices) - lag_price_window}\")\n",
    "    print(f\"Range: {list(range(len(prices) - lag_price_window))}\")\n",
    "    \n",
    "    return create_feature_matrix(data, lag_price_window)\n",
    "\n",
    "X_debug, y_debug = debug_create_feature_matrix(simple_subset, lag_price_window)"
   ]
  },
  {
   "cell_type": "code",
   "execution_count": 27,
   "id": "8a8452ef",
   "metadata": {},
   "outputs": [
    {
     "name": "stdout",
     "output_type": "stream",
     "text": [
      "Shapes: (3, 3) (3,)\n",
      "X_simple:\n",
      "       0      1      2\n",
      "0  65.88  63.16  66.70\n",
      "1  63.16  66.70  69.17\n",
      "2  66.70  69.17  64.00\n",
      "y_simple:\n",
      "0    69.17\n",
      "1    64.00\n",
      "2    64.86\n",
      "dtype: float64\n",
      "Length of y_simple: 3\n",
      "\n",
      "Length of simple_subset: 6\n",
      "simple_subset:\n",
      "               Datetime  MarginalES\n",
      "187 2019-01-01 14:00:00       65.88\n",
      "188 2019-01-02 14:00:00       63.16\n",
      "189 2019-01-03 14:00:00       66.70\n",
      "190 2019-01-04 14:00:00       69.17\n",
      "191 2019-01-05 14:00:00       64.00\n",
      "192 2019-01-06 14:00:00       64.86\n"
     ]
    }
   ],
   "source": [
    "X_simple, y_simple = create_feature_matrix(simple_subset, lag_price_window)\n",
    "\n",
    "# print the shape of the matrix\n",
    "print(\"Shapes:\", X_simple.shape, y_simple.shape)\n",
    "\n",
    "# print the actual matrix\n",
    "print(\"X_simple:\")\n",
    "print(X_simple)\n",
    "print(\"y_simple:\")\n",
    "print(y_simple)\n",
    "print(\"Length of y_simple:\", len(y_simple))\n",
    "\n",
    "print(\"\\nLength of simple_subset:\", len(simple_subset))\n",
    "print(\"simple_subset:\")\n",
    "print(simple_subset)"
   ]
  },
  {
   "cell_type": "code",
   "execution_count": 28,
   "id": "29cd5463",
   "metadata": {},
   "outputs": [
    {
     "name": "stdout",
     "output_type": "stream",
     "text": [
      "(3, 3) (3,)\n",
      "       0      1      2\n",
      "0  65.88  63.16  66.70\n",
      "1  63.16  66.70  69.17\n",
      "2  66.70  69.17  64.00\n",
      "0    69.17\n",
      "1    64.00\n",
      "2    64.86\n",
      "dtype: float64\n"
     ]
    }
   ],
   "source": [
    "X_simple, y_simple = create_feature_matrix(simple_subset, lag_price_window)\n",
    "\n",
    "# print the shape of the matrix\n",
    "print(X_simple.shape, y_simple.shape)\n",
    "\n",
    "# print the actual matrix\n",
    "print(X_simple)\n",
    "print(y_simple)"
   ]
  },
  {
   "cell_type": "code",
   "execution_count": null,
   "id": "c8708170",
   "metadata": {},
   "outputs": [],
   "source": [
    "#! Expandir esto para incluir nuevas metricas (mas columnas)\n",
    "# df_prices = df[['Datetime', 'MarginalES']]\n",
    "\n",
    "# # Select all relevant columns except 'Datetime'\n",
    "# feature_columns = df.columns[1:]  # Exclude 'Datetime'\n",
    "# df = df[['Datetime'] + list(feature_columns)]\n",
    "\n",
    "# print(df)"
   ]
  },
  {
   "cell_type": "code",
   "execution_count": 29,
   "id": "cd7d464a",
   "metadata": {},
   "outputs": [
    {
     "name": "stdout",
     "output_type": "stream",
     "text": [
      "(3, 33) (3,)\n",
      "   price_t-3  price_t-2  price_t-1      SMA_3   SMA_5      SMA_7     SMA_14  \\\n",
      "0      65.88      63.16      66.70  65.246667  64.974  63.842857  64.975000   \n",
      "1      63.16      66.70      69.17  66.343333  66.026  64.490000  65.401429   \n",
      "2      66.70      69.17      64.00  66.623333  65.782  65.434286  65.330000   \n",
      "\n",
      "      SMA_30     SMA_90    SMA_180  ...     RSI_30  BB_Width_7  BB_Width_14  \\\n",
      "0  64.886000  65.044333  67.227333  ...  50.823486   17.871701    15.638302   \n",
      "1  64.988333  65.038667  67.272889  ...  52.153121   21.198596    16.528083   \n",
      "2  64.947333  65.184222  67.267611  ...  49.268675   11.634263    16.685668   \n",
      "\n",
      "      STD_7    STD_14    STD_30    STD_90  month  day_of_week  is_weekend  \n",
      "0  3.080999  2.636139  2.620006  4.626188    1.0          3.0         0.0  \n",
      "1  3.691585  2.804414  2.726835  4.620755    1.0          4.0         0.0  \n",
      "2  2.055690  2.828060  2.732317  4.369895    1.0          5.0         1.0  \n",
      "\n",
      "[3 rows x 33 columns]\n",
      "0    69.17\n",
      "1    64.00\n",
      "2    64.86\n",
      "Name: price_t, dtype: float64\n"
     ]
    }
   ],
   "source": [
    "X_extended, y_extended = create_expanded_feature_matrix(feature_subset, lag_price_window)\n",
    "\n",
    "print(X_extended.shape, y_extended.shape)\n",
    "\n",
    "print(X_extended)\n",
    "print(y_extended)"
   ]
  }
 ],
 "metadata": {
  "kernelspec": {
   "display_name": ".venv",
   "language": "python",
   "name": "python3"
  },
  "language_info": {
   "codemirror_mode": {
    "name": "ipython",
    "version": 3
   },
   "file_extension": ".py",
   "mimetype": "text/x-python",
   "name": "python",
   "nbconvert_exporter": "python",
   "pygments_lexer": "ipython3",
   "version": "3.11.12"
  }
 },
 "nbformat": 4,
 "nbformat_minor": 5
}
