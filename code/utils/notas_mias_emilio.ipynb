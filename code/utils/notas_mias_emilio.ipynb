{
 "cells": [
  {
   "cell_type": "code",
   "execution_count": null,
   "metadata": {},
   "outputs": [],
   "source": [
    "'''\n",
    "uc3m\n",
    "Bachelor Thesis: Machine Learning-Based Predictive Modeling of Energy Prices\n",
    "Author: Rodrigo De Lama Fernández\n",
    "Professor: Emilio Parrado\n",
    "\n",
    "Date: 2025-02-28\n",
    "File: code/regression_tests/ta_eval.py\n",
    "\n",
    "This script reads the technical analysis metrics from the CSV file\n",
    "Chooses the metrics we want to use for the regression model and evaluates the model\n",
    "'''"
   ]
  },
  {
   "cell_type": "code",
   "execution_count": 1,
   "metadata": {},
   "outputs": [],
   "source": [
    "import numpy as np\n",
    "from sklearn.linear_model import Ridge\n",
    "import matplotlib.pyplot as plt"
   ]
  },
  {
   "cell_type": "markdown",
   "metadata": {},
   "source": [
    "# Test recuperar coeficientes"
   ]
  },
  {
   "cell_type": "code",
   "execution_count": 5,
   "metadata": {},
   "outputs": [],
   "source": [
    "nn = 10000\n",
    "\n",
    "# Set 3 arrays\n",
    "\n",
    "# Run through Ridge fit"
   ]
  },
  {
   "cell_type": "markdown",
   "metadata": {},
   "source": [
    "# Filtro"
   ]
  },
  {
   "cell_type": "markdown",
   "metadata": {},
   "source": [
    "autoregressive model\n",
    "\n",
    "build a time series that i can predict\n",
    "\n",
    "lfilter en TMDE\n",
    "\n",
    "\n",
    "pensar en\n",
    "filtro de Wiener"
   ]
  },
  {
   "cell_type": "code",
   "execution_count": null,
   "metadata": {},
   "outputs": [],
   "source": [
    "from scipy import signal\n",
    "X = np.random.randn(nn)\n",
    "Y = signal.lfilter([1], np.array([0.9, -0.8, -0.2, -0.3,]), X) # reviar funcion filter coefs mal puestos?"
   ]
  },
  {
   "cell_type": "code",
   "execution_count": 7,
   "metadata": {},
   "outputs": [
    {
     "data": {
      "text/plain": [
       "array([ 0.15167635, -0.46397371, -1.78354469, ...,         inf,\n",
       "               inf,         inf], shape=(10000,))"
      ]
     },
     "execution_count": 7,
     "metadata": {},
     "output_type": "execute_result"
    }
   ],
   "source": [
    "Y"
   ]
  }
 ],
 "metadata": {
  "kernelspec": {
   "display_name": ".tfg_venv",
   "language": "python",
   "name": "python3"
  },
  "language_info": {
   "codemirror_mode": {
    "name": "ipython",
    "version": 3
   },
   "file_extension": ".py",
   "mimetype": "text/x-python",
   "name": "python",
   "nbconvert_exporter": "python",
   "pygments_lexer": "ipython3",
   "version": "3.13.2"
  }
 },
 "nbformat": 4,
 "nbformat_minor": 2
}
