{
 "cells": [
  {
   "cell_type": "markdown",
   "metadata": {},
   "source": [
    "TFG"
   ]
  },
  {
   "cell_type": "code",
   "execution_count": null,
   "metadata": {},
   "outputs": [],
   "source": [
    "import pandas as pd\n",
    "\n",
    "# import sklearn\n",
    "\n",
    "from sklearn.linear_model import LinearRegression\n",
    "from sklearn.metrics import mean_squared_error, r2_score\n",
    "\n",
    "import matplotlib.pyplot as plt\n",
    "\n",
    "# ta\n",
    "# ta pandas"
   ]
  },
  {
   "cell_type": "markdown",
   "metadata": {},
   "source": [
    "testing the matrix build"
   ]
  },
  {
   "cell_type": "code",
   "execution_count": 38,
   "metadata": {},
   "outputs": [],
   "source": [
    "# read data\n",
    "csv_hour_file = '../data/hour_14_metrics.csv'\n",
    "df = pd.read_csv(csv_hour_file, parse_dates=['Datetime'])\n",
    "df = df[['Datetime', 'MarginalES']]\n",
    "\n",
    "# Date range for the training matrix\n",
    "train_start_date = '2018-01-01'\n",
    "train_end_date = '2022-01-01'\n",
    "\n",
    "train_subset_df = df[(df['Datetime'] >= train_start_date) & (df['Datetime'] <= train_end_date)]\n",
    "\n",
    "\n",
    "\n",
    "##### \n",
    "\n",
    "# probar con eso tambien\n",
    "# error de retorno con 0s\n",
    "# sumarle 0,001 a todo para que nunca sea 0\n",
    "# limpiar numeros negativos\n",
    "\n",
    "# benchmark 1 precios absolutos\n",
    "# benchmark 2 precios relativos\n",
    "# benchmark 3 indicadores tecnicos\n",
    "    # 1. media movil\n",
    "    # 2. momentum\n",
    "    # 3. RSI\n",
    "    # 4. añdir los precios absolutos o relativos\n",
    "# benchmark 4 random forest\n",
    "\n",
    "\n",
    "\n",
    "# precios reales y precios relativos\n",
    "\n",
    "# Sliding window size\n",
    "window_size = 3"
   ]
  },
  {
   "cell_type": "code",
   "execution_count": 39,
   "metadata": {},
   "outputs": [],
   "source": [
    "# Function to create sliding windows of data\n",
    "def create_sliding_window(data, window_size):\n",
    "    X, y = [], []  # Initialize lists for input features (X) and target values (y)\n",
    "    \n",
    "    for i in range(len(data) - window_size):\n",
    "        # Extract a window of size 'window_size' from the data\n",
    "        X.append(data.iloc[i:i+window_size, 1:].values.flatten())  \n",
    "        \n",
    "        # The label is the value right after the current window\n",
    "        y.append(data.iloc[i + window_size, 1])  \n",
    "    \n",
    "    # Convert the lists to DataFrame/Series for easier use in training\n",
    "    return pd.DataFrame(X), pd.Series(y)"
   ]
  },
  {
   "cell_type": "code",
   "execution_count": 40,
   "metadata": {},
   "outputs": [],
   "source": [
    "# Create sliding window matrix\n",
    "X_train, y_train = create_sliding_window(train_subset_df, window_size)"
   ]
  },
  {
   "cell_type": "markdown",
   "metadata": {},
   "source": [
    "Print to check the matrix"
   ]
  },
  {
   "cell_type": "code",
   "execution_count": null,
   "metadata": {},
   "outputs": [
    {
     "name": "stdout",
     "output_type": "stream",
     "text": [
      "(1459, 3) (1459,)\n",
      "       0      1      2\n",
      "0   2.30  48.02  52.00\n",
      "1  48.02  52.00  48.19\n",
      "2  52.00  48.19  52.02\n",
      "3  48.19  52.02  52.07\n",
      "4  52.02  52.07  54.07\n",
      "0    48.19\n",
      "1    52.02\n",
      "2    52.07\n",
      "3    54.07\n",
      "4    69.42\n",
      "dtype: float64\n"
     ]
    }
   ],
   "source": [
    "# print the shape of the matrix\n",
    "print(X_train.shape, y_train.shape)\n",
    "\n",
    "# print the actual matrix\n",
    "print(X_train.head())\n",
    "print(y_train.head())\n",
    "\n",
    "# Lasso\n",
    "# .coef_ da los pesos del modelo lineal\n",
    "# las que sean cero o muy bajitas no van a tener peso en la decision"
   ]
  },
  {
   "cell_type": "markdown",
   "metadata": {},
   "source": [
    "Build a simple regression model and train with the matrix"
   ]
  },
  {
   "cell_type": "code",
   "execution_count": null,
   "metadata": {},
   "outputs": [
    {
     "name": "stdout",
     "output_type": "stream",
     "text": [
      "Test MSE: 1112.892958044297\n",
      "x_last: [[110.01 108.88 116.02]]\n",
      "y_pred: [112.48665834]\n"
     ]
    }
   ],
   "source": [
    "# Build a simple regression model and train with the matrix\n",
    "model_lr = LinearRegression()\n",
    "\n",
    "# Train with the training subset\n",
    "# model_lr.train(X_train, y_train)\n",
    "model_lr.fit(X_train, y_train)\n",
    "\n",
    "#! en vez de score llamar a predict y guardar los valors\n",
    "\n",
    "#! bucle for\n",
    "# predict\n",
    "\n",
    "\n",
    "# Fit with the next subset up to the row before prediction\n",
    "\n",
    "# Date range for the testing (fit) matrix\n",
    "test_start_date = '2022-01-02'\n",
    "test_end_date = '2025-01-01'\n",
    "\n",
    "test_subset_df = df[(df['Datetime'] >= test_start_date) & (df['Datetime'] <= test_end_date)]\n",
    "\n",
    "# Create sliding window matrix\n",
    "X_test, y_test = create_sliding_window(test_subset_df, window_size)\n",
    "\n",
    "#! ERROR - you cannot fit the regression again with test data - its retraining the whole thing\n",
    "#! Fit the model w test data\n",
    "# model_lr.fit(X_test, y_test)\n",
    "\n",
    "# llamar a fit con toda la matriz, con la anchura ventana deslizante\n",
    "# y altura num of days back\n",
    "\n",
    "#! me falta score con test\n",
    "# llama a predict con la x y compara con mis ys\n",
    "# guardar errores y predicciones\n",
    "# std dev\n",
    "# percentil\n",
    "\n",
    "# pickle para guardar sets de numeros en vez de numpy ??\n",
    "\n",
    "# Predict the target values\n",
    "# y_pred = model_lr.predict(X) # SOLO la lonchita\n",
    "# predict o score para otros modelos\n",
    "y_pred = model_lr.predict(X_test) #! SOLO la lonchita ???\n",
    "mse = mean_squared_error(y_test, y_pred)\n",
    "print(f\"Test MSE: {mse}\")\n",
    "\n",
    "# mirar tambien Expectation Short-Fall\n",
    "# mirar cual seria la peor prediccion\n",
    "# la media del 5% peor de resultados\n",
    "# buscar que el caso peor no sea tan malo?\n",
    "\n",
    "# linear regressor has mean error 0 that why we do error cuadratico o absoluto\n",
    "\n",
    "# llamar a predict con solo la ultima fila (ancho)\n",
    "X_last = X_test.iloc[-1, :].values.reshape(1, -1)\n",
    "y_pred = model_lr.predict(X_last)\n",
    "# mse = mean_squared_error(y_test, y_pred)\n",
    "print(f\"x_last: {X_last}\")\n",
    "print(f\"y_pred: {y_pred}\")\n",
    "\n",
    "# Calculate the mean squared error and R2 score\n",
    "# mse = mean_squared_error(y, y_pred)\n",
    "# print('Mean squared error:', mse)\n",
    "# r2 = r2_score(y, y_pred)\n",
    "# print('R2 score:', r2)\n",
    "\n",
    "# # Print 20 y and y_pred to visualize the difference\n",
    "# print('Actual vs Predicted')\n",
    "# print(pd.DataFrame({'Actual': y, 'Predicted': y_pred}).head(20))\n",
    "\n",
    "# # Plot the actual vs. predicted values\n",
    "# plt.figure(figsize=(10, 6))\n",
    "# plt.plot(subset_df['Datetime'][window_size:], y, label='Actual')\n",
    "# plt.plot(subset_df['Datetime'][window_size:], y_pred, label='Predicted')\n",
    "# plt.legend()\n",
    "# plt.show()"
   ]
  },
  {
   "cell_type": "markdown",
   "metadata": {},
   "source": [
    "Now with the return values"
   ]
  },
  {
   "cell_type": "code",
   "execution_count": 45,
   "metadata": {},
   "outputs": [
    {
     "name": "stdout",
     "output_type": "stream",
     "text": [
      "Test MSE: 192605.69284437993\n",
      "x_last: [[ 2.17391304e-01  1.60714286e-01  3.53846154e-03 -1.68250805e-01\n",
      "  -8.75495346e-03 -6.37783563e-02 -9.67030785e-01 -8.67469880e-01\n",
      "   7.75000000e+00  2.89246753e+01  5.54639354e-02  1.43092105e-01\n",
      "  -8.92086331e-03 -2.16390825e-01 -2.97637795e-01  2.71828014e-01\n",
      "   1.03702167e-01 -1.50051677e-01 -2.21755472e-01  2.18892045e-01\n",
      "  -5.83032281e-01 -5.70150922e-01 -7.84135241e-01  9.77710843e+00\n",
      "   1.43991056e+00  2.06185567e-01  2.50712251e-02  1.91773207e-02\n",
      "  -1.02717935e-02  6.55767818e-02]]\n",
      "y_pred: [0.6227191]\n"
     ]
    }
   ],
   "source": [
    "window_size = 30\n",
    "\n",
    "# read return data\n",
    "csv_hour_file = '../data/clean_return_data.csv'\n",
    "df = pd.read_csv(csv_hour_file, parse_dates=['Datetime'])\n",
    "df = df[['Datetime', 'Return']]\n",
    "\n",
    "# Date range for the training matrix\n",
    "train_start_date = '2018-01-02'\n",
    "train_end_date = '2022-01-01'\n",
    "\n",
    "train_subset_df = df[(df['Datetime'] >= train_start_date) & (df['Datetime'] <= train_end_date)]\n",
    "\n",
    "# Create sliding window matrix\n",
    "X_train, y_train = create_sliding_window(train_subset_df, window_size)\n",
    "\n",
    "# Build a simple regression model and train with the matrix\n",
    "model_lr = LinearRegression()\n",
    "\n",
    "# Train with the training subset\n",
    "# model_lr.train(X_train, y_train)\n",
    "model_lr.fit(X_train, y_train)\n",
    "\n",
    "\n",
    "# Fit with the next subset up to the row before prediction\n",
    "\n",
    "# Date range for the testing (fit) matrix\n",
    "test_start_date = '2022-01-02'\n",
    "test_end_date = '2025-01-01'\n",
    "\n",
    "test_subset_df = df[(df['Datetime'] >= test_start_date) & (df['Datetime'] <= test_end_date)]\n",
    "\n",
    "# Create sliding window matrix\n",
    "X_test, y_test = create_sliding_window(test_subset_df, window_size)\n",
    "\n",
    "y_pred = model_lr.predict(X_test) #! SOLO la lonchita ???\n",
    "mse = mean_squared_error(y_test, y_pred)\n",
    "print(f\"Test MSE: {mse}\")\n",
    "\n",
    "# linear regressor has mean error 0 that why we do error cuadratico o absoluto\n",
    "\n",
    "# llamar a predict con solo la ultima fila (ancho)\n",
    "X_last = X_test.iloc[-1, :].values.reshape(1, -1)\n",
    "y_pred = model_lr.predict(X_last)\n",
    "# mse = mean_squared_error(y_test, y_pred)\n",
    "print(f\"x_last: {X_last}\")\n",
    "print(f\"y_pred: {y_pred}\")"
   ]
  },
  {
   "cell_type": "code",
   "execution_count": 44,
   "metadata": {},
   "outputs": [],
   "source": [
    "# # Build a simple random forest model and train with the matrix\n",
    "# model_rf = sklearn RandomForest()\n",
    "# model_rf.fit(X, y)\n",
    "\n",
    "# # llamar a fit con toda la matriz, con la anchura ventana deslizante\n",
    "# # y altura num of days back\n",
    "\n",
    "# # Predict the target values\n",
    "# y_pred = model_rf.predict(X)\n",
    "\n",
    "# # llamar a predict con solo una fila (ancho)\n",
    "\n",
    "# # Calculate the mean squared error and R2 score\n",
    "# mse = mean_squared_error(y, y_pred)\n",
    "# print('Mean squared error:', mse)\n",
    "# r2 = r2_score(y, y_pred)\n",
    "# print('R2 score:', r2)\n",
    "\n",
    "# # Print 20 y and y_pred to visualize the difference\n",
    "# print('Actual vs Predicted')\n",
    "# print(pd.DataFrame({'Actual': y, 'Predicted': y_pred}).head(20))\n",
    "\n",
    "# # Plot the actual vs. predicted values\n",
    "# plt.figure(figsize=(10, 6))\n",
    "# plt.plot(subset_df['Datetime'][window_size:], y, label='Actual')\n",
    "# plt.plot(subset_df['Datetime'][window_size:], y_pred, label='Predicted')\n",
    "# plt.legend()\n",
    "# plt.show()"
   ]
  },
  {
   "cell_type": "markdown",
   "metadata": {},
   "source": [
    "Pasos a seguir\n",
    "\n",
    "Calcular el retorno (en vez de usar los precios)\n",
    "Interpolar (rellenar valores)\n",
    "Coger el set completo y partir en dos\n",
    "\n",
    "Entrenar con la primera mitad (bloque 1 de datos)\n",
    "    - Train\n",
    "\n",
    "Coger todo el set de datos anterior a la fila que queremos (bloque 2 de datos)\n",
    "    - Fit\n",
    "\n",
    "Hacer predict de la siguiente fila al set de datos anterior (resultado a predecir)\n"
   ]
  }
 ],
 "metadata": {
  "kernelspec": {
   "display_name": "Python 3",
   "language": "python",
   "name": "python3"
  },
  "language_info": {
   "codemirror_mode": {
    "name": "ipython",
    "version": 3
   },
   "file_extension": ".py",
   "mimetype": "text/x-python",
   "name": "python",
   "nbconvert_exporter": "python",
   "pygments_lexer": "ipython3",
   "version": "3.12.7"
  }
 },
 "nbformat": 4,
 "nbformat_minor": 2
}
