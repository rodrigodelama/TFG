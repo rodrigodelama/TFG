{
  "cells": [
    {
      "cell_type": "markdown",
      "metadata": {
        "id": "-qnX3bcLRtUY"
      },
      "source": [
        "# **Modern Theory of Detection and Estimation**\n",
        "## **Lab 1. Machine Learning for Regression**\n",
        "### **Academic Year 2022/2023** \n",
        "\n",
        "Bachelor's Degree in:\n",
        "*   Mobile and Space Communications Engineering (groups 61 and 65)\n",
        "*   Sound and Image Engineering (groups 66, 67 and 69)\n",
        "*   Telecomunication Technologies Engineering (groups 91, 92 and 95)\n",
        "*   Telematic Engineering (group 71 and 79)\n",
        "\n",
        "Department of Signal Processing and Communications\n",
        "\n"
      ]
    },
    {
      "cell_type": "markdown",
      "metadata": {
        "id": "4g2ZWOtRW3Uo"
      },
      "source": [
        "#**Objective**\n",
        "\n",
        "Your neighbor Jane is a real estate agent and wants some help predicting housing prices for regions in the suburbs of Boston (USA). It would be great if you could somehow create a model that allows her to put in a few features of a house and returns an estimate of what the house would sell for.\n",
        "\n",
        "Jane has asked you if you could help her out with your new data science skills. You say yes, and decide that implementing some regression models might be a good path to solve this problem!\n",
        "\n",
        "Your neighbor then gives you some information about a bunch of houses in the suburbs of Boston (USA).\n",
        "\n",
        "**Let's get started!**\n"
      ]
    },
    {
      "cell_type": "markdown",
      "metadata": {
        "id": "cHPgADN0N4-j"
      },
      "source": [
        "\n",
        "We have been able to get some data from your neighbor for housing prices. Let us get our environment ready with the necessary libraries and then import the data!\n"
      ]
    },
    {
      "cell_type": "code",
      "execution_count": 48,
      "metadata": {
        "id": "FUo-bX7cZyJR"
      },
      "outputs": [],
      "source": [
        "#Import the Python libraries that are used in this lab assignment\n",
        "import pandas as pd\n",
        "import numpy as np\n",
        "import random\n",
        "import matplotlib.pyplot as plt\n",
        "\n",
        "#To avoid warning messages\n",
        "import warnings\n",
        "warnings.filterwarnings('ignore')\n",
        "## some de desarrollo otras de multiple choice\n",
        "## cual es la correcta para el error cuadratico medio\n",
        "## alpha es un parametro de un regresior lineal??"
      ]
    },
    {
      "cell_type": "markdown",
      "metadata": {
        "id": "jynzm5yMZyJl"
      },
      "source": [
        "# <font color = 'black'> 1. Boston housing dataset </font>"
      ]
    },
    {
      "cell_type": "markdown",
      "metadata": {
        "id": "zYx7oMi5TZFH"
      },
      "source": [
        "## 1.1 Description\n",
        "\n",
        "We will take the Housing dataset, which contains information about different houses in Boston. This data was originally a part of [UCI Machine Learning Repository](https://archive.ics.uci.edu/ml/index.php). While it is no longer available there, we can still access it through the `scikit-learn` library. There are 506 samples and 13 feature variables in this dataset. The objective is to estimate the value of prices of the houses (`PRICE`) using the 13 given features."
      ]
    },
    {
      "cell_type": "markdown",
      "metadata": {
        "id": "jWu3OO7L4NO2"
      },
      "source": [
        "### Getting the data"
      ]
    },
    {
      "cell_type": "code",
      "execution_count": 49,
      "metadata": {
        "colab": {
          "base_uri": "https://localhost:8080/"
        },
        "id": "tUgtCLwiZ5h-",
        "outputId": "ea5a6556-e0f8-43cf-9041-52dc32b54fed"
      },
      "outputs": [
        {
          "name": "stdout",
          "output_type": "stream",
          "text": [
            "<class 'sklearn.utils._bunch.Bunch'>\n"
          ]
        }
      ],
      "source": [
        "#From sklearn tutorial\n",
        "from sklearn.datasets import load_boston\n",
        "boston = load_boston(return_X_y=False)\n",
        "print(type(boston))"
      ]
    },
    {
      "cell_type": "code",
      "execution_count": 50,
      "metadata": {
        "colab": {
          "base_uri": "https://localhost:8080/"
        },
        "id": "QNofWignk0cN",
        "outputId": "b213914b-ac69-46ca-9a52-4c7ace159485"
      },
      "outputs": [
        {
          "data": {
            "text/plain": [
              "dict_keys(['data', 'target', 'feature_names', 'DESCR', 'filename', 'data_module'])"
            ]
          },
          "execution_count": 50,
          "metadata": {},
          "output_type": "execute_result"
        }
      ],
      "source": [
        "#A \"Bunch\", if you remember, is a dictionary-based dataset\n",
        "boston.keys()"
      ]
    },
    {
      "cell_type": "code",
      "execution_count": 51,
      "metadata": {
        "colab": {
          "base_uri": "https://localhost:8080/"
        },
        "id": "Nifl0vAaAxMV",
        "outputId": "951c1a87-7852-4ab9-aa3a-b23a62477752"
      },
      "outputs": [
        {
          "name": "stdout",
          "output_type": "stream",
          "text": [
            ".. _boston_dataset:\n",
            "\n",
            "Boston house prices dataset\n",
            "---------------------------\n",
            "\n",
            "**Data Set Characteristics:**  \n",
            "\n",
            "    :Number of Instances: 506 \n",
            "\n",
            "    :Number of Attributes: 13 numeric/categorical predictive. Median Value (attribute 14) is usually the target.\n",
            "\n",
            "    :Attribute Information (in order):\n",
            "        - CRIM     per capita crime rate by town\n",
            "        - ZN       proportion of residential land zoned for lots over 25,000 sq.ft.\n",
            "        - INDUS    proportion of non-retail business acres per town\n",
            "        - CHAS     Charles River dummy variable (= 1 if tract bounds river; 0 otherwise)\n",
            "        - NOX      nitric oxides concentration (parts per 10 million)\n",
            "        - RM       average number of rooms per dwelling\n",
            "        - AGE      proportion of owner-occupied units built prior to 1940\n",
            "        - DIS      weighted distances to five Boston employment centres\n",
            "        - RAD      index of accessibility to radial highways\n",
            "        - TAX      full-value property-tax rate per $10,000\n",
            "        - PTRATIO  pupil-teacher ratio by town\n",
            "        - B        1000(Bk - 0.63)^2 where Bk is the proportion of black people by town\n",
            "        - LSTAT    % lower status of the population\n",
            "        - MEDV     Median value of owner-occupied homes in $1000's\n",
            "\n",
            "    :Missing Attribute Values: None\n",
            "\n",
            "    :Creator: Harrison, D. and Rubinfeld, D.L.\n",
            "\n",
            "This is a copy of UCI ML housing dataset.\n",
            "https://archive.ics.uci.edu/ml/machine-learning-databases/housing/\n",
            "\n",
            "\n",
            "This dataset was taken from the StatLib library which is maintained at Carnegie Mellon University.\n",
            "\n",
            "The Boston house-price data of Harrison, D. and Rubinfeld, D.L. 'Hedonic\n",
            "prices and the demand for clean air', J. Environ. Economics & Management,\n",
            "vol.5, 81-102, 1978.   Used in Belsley, Kuh & Welsch, 'Regression diagnostics\n",
            "...', Wiley, 1980.   N.B. Various transformations are used in the table on\n",
            "pages 244-261 of the latter.\n",
            "\n",
            "The Boston house-price data has been used in many machine learning papers that address regression\n",
            "problems.   \n",
            "     \n",
            ".. topic:: References\n",
            "\n",
            "   - Belsley, Kuh & Welsch, 'Regression diagnostics: Identifying Influential Data and Sources of Collinearity', Wiley, 1980. 244-261.\n",
            "   - Quinlan,R. (1993). Combining Instance-Based and Model-Based Learning. In Proceedings on the Tenth International Conference of Machine Learning, 236-243, University of Massachusetts, Amherst. Morgan Kaufmann.\n",
            "\n"
          ]
        }
      ],
      "source": [
        "#DESCR sounds like it could be useful. Let's print the description.\n",
        "print(boston['DESCR'])"
      ]
    },
    {
      "cell_type": "code",
      "execution_count": 52,
      "metadata": {
        "colab": {
          "base_uri": "https://localhost:8080/"
        },
        "id": "ssjDuyUSOfQp",
        "outputId": "116f97bd-36da-4782-9851-846fbd6d2b50"
      },
      "outputs": [
        {
          "name": "stdout",
          "output_type": "stream",
          "text": [
            "Feature names:\n",
            "['CRIM' 'ZN' 'INDUS' 'CHAS' 'NOX' 'RM' 'AGE' 'DIS' 'RAD' 'TAX' 'PTRATIO'\n",
            " 'B' 'LSTAT']\n",
            "\n",
            "These are the feature values of the first sample:\n",
            "[6.320e-03 1.800e+01 2.310e+00 0.000e+00 5.380e-01 6.575e+00 6.520e+01\n",
            " 4.090e+00 1.000e+00 2.960e+02 1.530e+01 3.969e+02 4.980e+00]\n",
            "\n",
            "This is the target value (PRICE) of the first sample:\n",
            "24.0\n"
          ]
        }
      ],
      "source": [
        "# Let's obtain the numpy matrices and the feature names\n",
        "X = boston.data # columns 1-13\n",
        "y = boston.target # column 14\n",
        "feature_names = boston.feature_names\n",
        "\n",
        "# Let's print the feature names\n",
        "print(\"Feature names:\")\n",
        "print(feature_names)\n",
        "\n",
        "# Let's print the first sample from the dataset\n",
        "print(\"\\nThese are the feature values of the first sample:\")\n",
        "print(X[0,:]) # prints the first row ,: meaning all columns (x,y) coordinates like\n",
        "\n",
        "print(\"\\nThis is the target value (PRICE) of the first sample:\")\n",
        "print(y[0]) # prints \n"
      ]
    },
    {
      "cell_type": "code",
      "execution_count": 53,
      "metadata": {
        "colab": {
          "base_uri": "https://localhost:8080/"
        },
        "id": "k6ZhHhyRC_Ko",
        "outputId": "c910a8fc-53b2-478e-95fd-65acb10c2731"
      },
      "outputs": [
        {
          "name": "stdout",
          "output_type": "stream",
          "text": [
            "506\n"
          ]
        }
      ],
      "source": [
        "#How many samples are there in the dataset? Print it out!\n",
        "#YOUR CODE HERE\n",
        "from random import sample\n",
        "samples = X.shape[0] # shape[0] prints rows of our X panda dataset (data array)\n",
        "print(samples)"
      ]
    },
    {
      "cell_type": "code",
      "execution_count": 54,
      "metadata": {
        "colab": {
          "base_uri": "https://localhost:8080/"
        },
        "id": "6bTg7oOSe8de",
        "outputId": "0e72f041-6d53-4ebc-ded3-faf1a100906e"
      },
      "outputs": [
        {
          "name": "stdout",
          "output_type": "stream",
          "text": [
            "13\n"
          ]
        }
      ],
      "source": [
        "#What is the number of features per sample? Print it out!\n",
        "#YOUR CODE HERE\n",
        "features = X.shape[-1] # shape[-1] prints the collumns of X (panda dataset), therefore our number of features\n",
        "print(features)\n",
        "\n",
        "# regresor lineal\n",
        "# 13 characteristicas\n",
        "# y = Wo + w1 + w2 ... + wn = n+1 coeficients\n",
        "# ridge tmb \n",
        "# lasso tmb"
      ]
    },
    {
      "cell_type": "markdown",
      "metadata": {
        "id": "f9FHR64fMP0U"
      },
      "source": [
        "Let's see the mean, std, min and max values of every feature and the target value:"
      ]
    },
    {
      "cell_type": "code",
      "execution_count": 55,
      "metadata": {
        "colab": {
          "base_uri": "https://localhost:8080/"
        },
        "id": "GEyw4UDZMPSe",
        "outputId": "a9c32ce3-92ed-4e83-db2a-7ecfb0da5962"
      },
      "outputs": [
        {
          "name": "stdout",
          "output_type": "stream",
          "text": [
            "mean of Y (target): 22.532806324110677\n",
            "\n",
            "mean of each column: [3.61352356e+00 1.13636364e+01 1.11367787e+01 6.91699605e-02\n",
            " 5.54695059e-01 6.28463439e+00 6.85749012e+01 3.79504269e+00\n",
            " 9.54940711e+00 4.08237154e+02 1.84555336e+01 3.56674032e+02\n",
            " 1.26530632e+01]\n",
            "std dev of each column: [8.59304135e+00 2.32993957e+01 6.85357058e+00 2.53742935e-01\n",
            " 1.15763115e-01 7.01922514e-01 2.81210326e+01 2.10362836e+00\n",
            " 8.69865112e+00 1.68370495e+02 2.16280519e+00 9.12046075e+01\n",
            " 7.13400164e+00]\n",
            "min value of each column: [6.3200e-03 0.0000e+00 4.6000e-01 0.0000e+00 3.8500e-01 3.5610e+00\n",
            " 2.9000e+00 1.1296e+00 1.0000e+00 1.8700e+02 1.2600e+01 3.2000e-01\n",
            " 1.7300e+00]\n",
            "max value of each column: [ 88.9762 100.      27.74     1.       0.871    8.78   100.      12.1265\n",
            "  24.     711.      22.     396.9     37.97  ]\n"
          ]
        }
      ],
      "source": [
        "#YOUR CODE HERE\n",
        "\n",
        "# X[:,y] meaning :, all row, and y meaning each column\n",
        "\n",
        "# mean\n",
        "mean_target = np.mean(y)\n",
        "# mean of each collumn\n",
        "means = np.array([np.mean(X[:,0]),np.mean(X[:,1]),np.mean(X[:,2]),np.mean(X[:,3]),np.mean(X[:,4]),np.mean(X[:,5]),np.mean(X[:,6]),np.mean(X[:,7]),np.mean(X[:,8]),np.mean(X[:,9]),np.mean(X[:,10]),np.mean(X[:,11]),np.mean(X[:,12])])\n",
        "# std dev of each collumn\n",
        "stds = np.array([np.std(X[:,0]),np.std(X[:,1]),np.std(X[:,2]),np.std(X[:,3]),np.std(X[:,4]),np.std(X[:,5]),np.std(X[:,6]),np.std(X[:,7]),np.std(X[:,8]),np.std(X[:,9]),np.std(X[:,10]),np.std(X[:,11]),np.std(X[:,12])])\n",
        "# min and max\n",
        "min_values = np.array([np.min(X[:,0]),np.min(X[:,1]),np.min(X[:,2]),np.min(X[:,3]),np.min(X[:,4]),np.min(X[:,5]),np.min(X[:,6]),np.min(X[:,7]),np.min(X[:,8]),np.min(X[:,9]),np.min(X[:,10]),np.min(X[:,11]),np.min(X[:,12])])\n",
        "max_values = np.array([np.max(X[:,0]),np.max(X[:,1]),np.max(X[:,2]),np.max(X[:,3]),np.max(X[:,4]),np.max(X[:,5]),np.max(X[:,6]),np.max(X[:,7]),np.max(X[:,8]),np.max(X[:,9]),np.max(X[:,10]),np.max(X[:,11]),np.max(X[:,12])])\n",
        "\n",
        "print(\"mean of Y (target):\", mean_target)\n",
        "print()\n",
        "print(\"mean of each column:\", means)\n",
        "print(\"std dev of each column:\", stds)\n",
        "print(\"min value of each column:\", min_values)\n",
        "print(\"max value of each column:\", max_values)\n"
      ]
    },
    {
      "cell_type": "markdown",
      "metadata": {
        "id": "vTS6g9wn86f2"
      },
      "source": [
        "It is relevant to have a look at the distribution of the target variable. Please note that an important part of the distribution is relatively similar to a Gaussian distribution!\n"
      ]
    },
    {
      "cell_type": "code",
      "execution_count": 56,
      "metadata": {
        "colab": {
          "base_uri": "https://localhost:8080/",
          "height": 265
        },
        "id": "_YA32C-t7xsH",
        "outputId": "ef8dfac8-eb3f-4583-f45d-6fd427b8a58f"
      },
      "outputs": [
        {
          "data": {
            "image/png": "[encoded data removed]",
            "text/plain": [
              "<Figure size 640x480 with 1 Axes>"
            ]
          },
          "metadata": {},
          "output_type": "display_data"
        }
      ],
      "source": [
        "#Let's use the Seaborn library, because it is prettier ;) \n",
        "import seaborn as sns\n",
        "sns.distplot(y);\n",
        "# we have outliers in our gaussian distribution\n"
      ]
    },
    {
      "cell_type": "markdown",
      "metadata": {
        "id": "pR8dG6ZcQnQE"
      },
      "source": [
        "Compute the correlation of each feature with the variable to be estimated or target (`PRICE`). Please, round decimal numbers to 2 decimal places.\n",
        "\n",
        "**Hint:** Make use of the NumPy function [`corrcoef`](https://numpy.org/doc/stable/reference/generated/numpy.corrcoef.html) for calculating the correlation."
      ]
    },
    {
      "cell_type": "code",
      "execution_count": 57,
      "metadata": {
        "colab": {
          "base_uri": "https://localhost:8080/"
        },
        "id": "tyOe-KPpCS_c",
        "outputId": "2638d841-1dff-42d8-d850-575a991082cd"
      },
      "outputs": [
        {
          "name": "stdout",
          "output_type": "stream",
          "text": [
            "CRIM\n",
            "-0.3883046085868116\n",
            "ZN\n",
            "0.3604453424505432\n",
            "INDUS\n",
            "-0.4837251600283728\n",
            "CHAS\n",
            "0.17526017719029843\n",
            "NOX\n",
            "-0.4273207723732824\n",
            "RM\n",
            "0.6953599470715388\n",
            "AGE\n",
            "-0.3769545650045961\n",
            "DIS\n",
            "0.249928734085904\n",
            "RAD\n",
            "-0.38162623063977774\n",
            "TAX\n",
            "-0.468535933567767\n",
            "PTRATIO\n",
            "-0.5077866855375619\n",
            "B\n",
            "0.33346081965706653\n",
            "LSTAT\n",
            "-0.737662726174015\n"
          ]
        }
      ],
      "source": [
        "#YOUR CODE HERE\n",
        "# use a for loop (X[:,i], Y)\n",
        "for i in range(13): # beacuse 13 rows of X\n",
        "  print(feature_names[i])\n",
        "  corr_matrix = np.corrcoef(X[:,i], y)[0, 1] # we want to grab that or [0, 1]\n",
        "  print(corr_matrix)\n",
        "\n",
        "# corr should be a (2x2)\n",
        "\n",
        "# [var(x), cov(x,y)]\n",
        "# [cov(x,y), var(y)]\n"
      ]
    },
    {
      "cell_type": "markdown",
      "metadata": {
        "id": "9Ii3JMQvCsg0"
      },
      "source": [
        "What is the most correlated feature with the target variable? And the least? What does it mean?\n",
        "\n",
        "<font color = 'green'> YOUR ANSWER HERE\n",
        "\n",
        "the most correlated is RM\n",
        "\n",
        "the least correlated is LSTSAT\n",
        "\n",
        "this means RM is the most similar to y and LSTSAT the least\n"
      ]
    },
    {
      "cell_type": "markdown",
      "metadata": {
        "id": "HVBAWEd-Nw-v"
      },
      "source": [
        "## 1.2 Data preparation"
      ]
    },
    {
      "cell_type": "markdown",
      "metadata": {
        "id": "TI5g1z4u1rqO"
      },
      "source": [
        "### 1.2.1 Training, validation and test sets\n",
        "\n",
        "Splitting the dataset is essential for an unbiased evaluation of the prediction performance. In most cases, it is enough to split the dataset randomly into three subsets:\n",
        "*   The **training set** is applied to train, or **fit**, the model. For example, it can be used to find the optimal weights, or coefficients, for linear regression, etc.\n",
        "*   The **validation set** is used for unbiased model evaluation during hyperparameter tuning. For example, when you want to find the optimal value of `alpha` in a Ridge regressor or the best kernel for the Kernel Ridge regression, you experiment with different values or different types of kernels. For each considered setting of hyperparameters, you fit the model with the training set and assess its performance with the validation set.\n",
        "\n",
        "    (ignore for linear regressor, we will mainly use this for the ridge and kernel)\n",
        "\n",
        "*   The **test set** is needed for an unbiased evaluation of the final model. It shouldn't be used for fitting or validation tasks.\n",
        "\n",
        "    (used for final testing and doing the mean square error calculations)\n",
        "\n",
        "The sklearn function [`train_test_split`](https://scikit-learn.org/stable/modules/generated/sklearn.model_selection.train_test_split.html) can do this work for you!\n",
        "\n",
        "**Note:** When comparing machine learning algorithms, it is desirable that they are fit and evaluated on the same subsets of the dataset. This can be achieved by fixing the seed for the pseudo-random number generator used when splitting the dataset. In the [`train_test_split`](https://scikit-learn.org/stable/modules/generated/sklearn.model_selection.train_test_split.html) function, this can be reached by setting the \"random_state\" to a specific integer value. "
      ]
    },
    {
      "cell_type": "markdown",
      "metadata": {
        "id": "jLzdAkx47Kfh"
      },
      "source": [
        "![LabAssignment (3).png](data:image/png;base64,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)"
      ]
    },
    {
      "cell_type": "code",
      "execution_count": 58,
      "metadata": {
        "colab": {
          "base_uri": "https://localhost:8080/"
        },
        "id": "shli8mwJZyLY",
        "outputId": "2ed19924-6501-4aa4-b0bf-c4e382df1390"
      },
      "outputs": [
        {
          "name": "stdout",
          "output_type": "stream",
          "text": [
            "X_train sample: (354, 13)\n",
            "X_test: (152, 13)\n",
            "y_train sample: (354,)\n",
            "y_test: (152,)\n"
          ]
        }
      ],
      "source": [
        "#Split your data into training and testing (70/30) is indeed a good starting point!)\n",
        "#For simplicity, use the names X_train, X_test, y_train, and y_test for the corresponding numpy arrays.\n",
        "#Note: Set random_state to a fixed value, for example, 42\n",
        "\n",
        "#YOUR CODE HERE\n",
        "import sklearn.model_selection\n",
        "X_train, X_test, y_train, y_test = sklearn.model_selection.train_test_split(X, y, test_size = 0.3, random_state=42)\n",
        "# 506 rows, 13 columns\n",
        "print(\"X_train sample:\", X_train.shape) #70/100\n",
        "print(\"X_test:\", X_test.shape) #30/100\n",
        "# 506 rows, 1 column\n",
        "print(\"y_train sample:\", y_train.shape) #70/100\n",
        "print(\"y_test:\", y_test.shape) #30/100\n"
      ]
    },
    {
      "cell_type": "code",
      "execution_count": 59,
      "metadata": {
        "id": "GfptqmL4ANaO"
      },
      "outputs": [],
      "source": [
        "#Now, split your training data into two subsets: train_val and val (70/30). \n",
        "#For simplicity, use the names X_train_val, X_val, y_train_val, and y_val for the corresponding numpy arrays.\n",
        "#Note: Set random_state to a fixed value, for example, 42\n",
        "\n",
        "#YOUR CODE HERE\n",
        "\n",
        "#train val is 70% of 354 and val is 30% of 354. The test sample is the remaining 152 (original 30%)\n",
        "X_train_val, X_val, y_train_val, y_val = sklearn.model_selection.train_test_split(X_train, y_train, test_size = 0.3, random_state = 42)\n",
        "\n",
        "# train to develop our models\n",
        "# validation for regressors with hyperparameter\n",
        "# example for ridge ¡, the param thats gives us lower error shall be alpha\n",
        "\n",
        "# test for final results\n"
      ]
    },
    {
      "cell_type": "code",
      "execution_count": 60,
      "metadata": {
        "colab": {
          "base_uri": "https://localhost:8080/"
        },
        "id": "UtNsycFVZyLY",
        "outputId": "bd94caa9-3732-4785-8b7f-ab584d6a10e8"
      },
      "outputs": [
        {
          "name": "stdout",
          "output_type": "stream",
          "text": [
            "X_train_val sample: (247, 13)\n",
            "X_val sample: (107, 13)\n",
            "X_test sample: (152, 13)\n",
            "\n",
            "y_train_val sample: (247,)\n",
            "y_val sample: (107,)\n",
            "y_test sample: (152,)\n"
          ]
        }
      ],
      "source": [
        "#YOUR CODE HERE\n",
        "\n",
        "# we only sepparate into a further 70/30 the X_train and y_train values\n",
        "print(\"X_train_val sample:\", X_train_val.shape) # 70% of 70%\n",
        "print(\"X_val sample:\", X_val.shape) # 30% of 70%\n",
        "print(\"X_test sample:\", X_test.shape) # 30%\n",
        "print()\n",
        "print(\"y_train_val sample:\", y_train_val.shape) # 70% of 70%\n",
        "print(\"y_val sample:\", y_val.shape) # 30% of 70%\n",
        "print(\"y_test sample:\", y_test.shape) # 30%\n"
      ]
    },
    {
      "cell_type": "markdown",
      "metadata": {
        "id": "dglYTlC-Av6q"
      },
      "source": [
        "# <font color = 'black'> 2. Modeling </font>"
      ]
    },
    {
      "cell_type": "markdown",
      "metadata": {
        "id": "7oaBjwFSB8ci"
      },
      "source": [
        "## 2.1 Regression evaluation metrics\n",
        "\n",
        "Here are three common evaluation metrics for regression problems:\n",
        "\n",
        "THERE IS A FUNCTION FOR ALL OF THESE ERRORS\n",
        "\n",
        "*   **Mean Absolute Error** (MAE) is the mean of the absolute value of the errors:\n",
        "$$\\text{MAE} = \\frac 1K\\sum_{k=1}^K\\Big|y^{(k)}-\\hat{y}^{(k)}\\Big|$$\n",
        "\n",
        "*   **Mean Squared Error** (MSE) is the mean of the squared errors:\n",
        "$$\\text{MSE} =\\frac 1K\\sum_{i=k}^K\\Big(y^{(k)}-\\hat{y}^{(k)}\\Big)^2$$\n",
        "\n",
        "*  **Root Mean Squared Error** (RMSE) is the square root of the mean of the squared errors:\n",
        "\n",
        "$$\\text{RMSE} = \\sqrt{\\frac 1K\\sum_{i=k}^k\\Big(y^{(k)}-\\hat{y}^{(k)}\\Big)^2}$$\n",
        "\n",
        "MSE and RMSE are the SAME function in sklearn, you just need to put it to false for RMSE (true is default for an MSE)\n",
        "\n",
        "Comparing these metrics:\n",
        "\n",
        "- **MAE** is the easiest to understand because it's the average error.\n",
        "- **MSE** is more popular than MAE because MSE \"punishes\" larger errors, which tends to be useful in the real world.\n",
        "- **RMSE** is even more popular than MSE because RMSE is interpretable in the \"y\" units.\n",
        "\n",
        "All of these are **loss functions**because we want to minimize them."
      ]
    },
    {
      "cell_type": "markdown",
      "metadata": {
        "id": "ytdAw1OhD3xD"
      },
      "source": [
        "## 2.2 Scale the inputs\n",
        "The ranges of variation of the variables conforming to the observations can be very different. Therefore, a typical pre-processing operation consists of normalizing the input variables so that they have comparable ranges.\n",
        "\n",
        "Perhaps the most used scaling within the machine learning community is standardization. It consists of a linear transformation that leaves each variable with zero mean and unit variance. The idea is to transform every variable in every observation by subtracting its mean and dividing by its standard deviation.\n",
        "\n",
        "Scikit learn model [StandardScaler](https://scikit-learn.org/stable/modules/generated/sklearn.preprocessing.StandardScaler.html) can perform this job for you!\n"
      ]
    },
    {
      "cell_type": "code",
      "execution_count": 61,
      "metadata": {
        "colab": {
          "base_uri": "https://localhost:8080/"
        },
        "id": "gO4lP65oENw7",
        "outputId": "1550aef2-fe8c-4756-c74e-8d7772dd6b58"
      },
      "outputs": [
        {
          "name": "stdout",
          "output_type": "stream",
          "text": [
            "[[-0.38145699  1.65303524 -0.76227298 ... -0.73205955  0.13758911\n",
            "  -0.36775301]\n",
            " [-0.3825721   2.91393298 -1.22927178 ... -1.58097368  0.38931776\n",
            "  -0.65504816]\n",
            " [-0.34383129 -0.55353581 -0.63736145 ... -0.37462202  0.19501292\n",
            "  -0.17852495]\n",
            " ...\n",
            " [-0.38056176  0.32909261 -0.7168506  ... -0.64270017  0.42505067\n",
            "  -0.51692549]\n",
            " [-0.36630226 -0.55353581  0.01700466 ...  0.42961241  0.19718201\n",
            "  -0.31664762]\n",
            " [-0.37980265  2.38855892 -1.19946335 ... -1.53629399  0.13599083\n",
            "  -1.02659814]]\n",
            "[[-0.38475388  3.43930704 -1.30876094 ... -0.55334079  0.28120573\n",
            "  -1.06665372]\n",
            " [ 2.8909804  -0.55353581  1.05178316 ...  0.87640932  0.42505067\n",
            "   2.01624428]\n",
            " [ 1.48892961 -0.55353581  1.05178316 ...  0.87640932  0.27001779\n",
            "   0.12948861]\n",
            " ...\n",
            " [-0.31894686 -0.55353581 -0.63736145 ... -0.37462202  0.32858323\n",
            "  -0.36360933]\n",
            " [-0.3646741  -0.55353581 -0.30237142 ...  1.18916716  0.41100867\n",
            "   0.89606942]\n",
            " [-0.35389474 -0.55353581 -0.11216522 ...  0.07217489  0.41957086\n",
            "  -0.09288889]]\n",
            "[[-0.37506868 -0.55353581 -0.94254303 ... -0.73205955  0.4090679\n",
            "  -0.43267066]\n",
            " [-0.37969402  1.12766118 -0.60755301 ... -0.28526264  0.42505067\n",
            "  -1.19372657]\n",
            " [-0.37324158 -0.55353581  2.42013223 ...  0.83172963  0.34753423\n",
            "   0.81457705]\n",
            " ...\n",
            " [-0.31811577 -0.55353581 -0.63736145 ... -0.37462202  0.25494832\n",
            "  -1.04179164]\n",
            " [ 0.34337568 -0.55353581  1.05178316 ...  0.87640932 -2.96226944\n",
            "   0.55905011]\n",
            " [ 0.91189443 -0.55353581  1.05178316 ...  0.87640932  0.32938237\n",
            "   0.5894371 ]]\n"
          ]
        }
      ],
      "source": [
        "from sklearn.preprocessing import StandardScaler\n",
        "# For this purpose, perform the following operations:\n",
        "#   - Create an instance of 'StandardScaler'\n",
        "scaler = StandardScaler()\n",
        "#   - Fit the scaler with the training data\n",
        "#   - Create three new matrices:\n",
        "#       * X_train_s: It contains the result of transforming 'X_train_val' with the scaler\n",
        "#       * X_val_s: It contains the result of transforming 'X_val' with the scaler\n",
        "#       * X_test_s: It contains the result of transforming 'X_test' with the scaler\n",
        "\n",
        "\n",
        "scaler.fit(X_train_val) # we only do the fit for the training values\n",
        "X_train_val_s = scaler.transform(X_train_val) # El scaler aprende los valores de X_train (lo entrenamos)\n",
        "# transform to normalize all values of X bc they are really dispair\n",
        "X_val_s = scaler.transform(X_val)\n",
        "X_test_s = scaler.transform(X_test)\n",
        "\n",
        "# WE NEVER DO NOT NORMALIZE THE TARGET bc there is only 1 column, we dont want to touch or target data\n",
        "\n",
        "# all 3 sets are standarized now\n",
        "print(X_train_val_s)\n",
        "print(X_val_s)\n",
        "print(X_test_s)\n"
      ]
    },
    {
      "cell_type": "markdown",
      "metadata": {
        "id": "cTDHiA1bR-bY"
      },
      "source": [
        "<font color = 'black'> \n",
        "From now on, please work with **standardized features**.\n",
        "\n",
        "$\\underline{\\text{Note}}$: Standardization is done to normalize data so that priority is not given to a particular feature. The role of scaling is mostly important in algorithms that, for example, are based on distance.\n"
      ]
    },
    {
      "cell_type": "markdown",
      "metadata": {
        "id": "QOYb1dEJFNYO"
      },
      "source": [
        "## 2.3 Designing the estimation models"
      ]
    },
    {
      "cell_type": "markdown",
      "metadata": {
        "id": "VAsshxdQeJZF"
      },
      "source": [
        "### 2.3.1 Linear regression\n",
        "\n",
        "> **Training the model**\n",
        "\n",
        "*   First, import the package: `from sklearn.linear_model import LinearRegression`\n",
        "*   Then, create the model object.\n",
        "*   Next, fit the training data. This creates a trained model (an object) of class regression.\n",
        "The variety of methods and attributes available for regression are shown [here](http://scikit-learn.org/stable/modules/generated/sklearn.linear_model.LinearRegression.html)."
      ]
    },
    {
      "cell_type": "code",
      "execution_count": 62,
      "metadata": {
        "id": "TQ9yUbK6ZyLb"
      },
      "outputs": [
        {
          "data": {
            "text/html": [
              "<style>#sk-container-id-2 {color: black;background-color: white;}#sk-container-id-2 pre{padding: 0;}#sk-container-id-2 div.sk-toggleable {background-color: white;}#sk-container-id-2 label.sk-toggleable__label {cursor: pointer;display: block;width: 100%;margin-bottom: 0;padding: 0.3em;box-sizing: border-box;text-align: center;}#sk-container-id-2 label.sk-toggleable__label-arrow:before {content: \"▸\";float: left;margin-right: 0.25em;color: #696969;}#sk-container-id-2 label.sk-toggleable__label-arrow:hover:before {color: black;}#sk-container-id-2 div.sk-estimator:hover label.sk-toggleable__label-arrow:before {color: black;}#sk-container-id-2 div.sk-toggleable__content {max-height: 0;max-width: 0;overflow: hidden;text-align: left;background-color: #f0f8ff;}#sk-container-id-2 div.sk-toggleable__content pre {margin: 0.2em;color: black;border-radius: 0.25em;background-color: #f0f8ff;}#sk-container-id-2 input.sk-toggleable__control:checked~div.sk-toggleable__content {max-height: 200px;max-width: 100%;overflow: auto;}#sk-container-id-2 input.sk-toggleable__control:checked~label.sk-toggleable__label-arrow:before {content: \"▾\";}#sk-container-id-2 div.sk-estimator input.sk-toggleable__control:checked~label.sk-toggleable__label {background-color: #d4ebff;}#sk-container-id-2 div.sk-label input.sk-toggleable__control:checked~label.sk-toggleable__label {background-color: #d4ebff;}#sk-container-id-2 input.sk-hidden--visually {border: 0;clip: rect(1px 1px 1px 1px);clip: rect(1px, 1px, 1px, 1px);height: 1px;margin: -1px;overflow: hidden;padding: 0;position: absolute;width: 1px;}#sk-container-id-2 div.sk-estimator {font-family: monospace;background-color: #f0f8ff;border: 1px dotted black;border-radius: 0.25em;box-sizing: border-box;margin-bottom: 0.5em;}#sk-container-id-2 div.sk-estimator:hover {background-color: #d4ebff;}#sk-container-id-2 div.sk-parallel-item::after {content: \"\";width: 100%;border-bottom: 1px solid gray;flex-grow: 1;}#sk-container-id-2 div.sk-label:hover label.sk-toggleable__label {background-color: #d4ebff;}#sk-container-id-2 div.sk-serial::before {content: \"\";position: absolute;border-left: 1px solid gray;box-sizing: border-box;top: 0;bottom: 0;left: 50%;z-index: 0;}#sk-container-id-2 div.sk-serial {display: flex;flex-direction: column;align-items: center;background-color: white;padding-right: 0.2em;padding-left: 0.2em;position: relative;}#sk-container-id-2 div.sk-item {position: relative;z-index: 1;}#sk-container-id-2 div.sk-parallel {display: flex;align-items: stretch;justify-content: center;background-color: white;position: relative;}#sk-container-id-2 div.sk-item::before, #sk-container-id-2 div.sk-parallel-item::before {content: \"\";position: absolute;border-left: 1px solid gray;box-sizing: border-box;top: 0;bottom: 0;left: 50%;z-index: -1;}#sk-container-id-2 div.sk-parallel-item {display: flex;flex-direction: column;z-index: 1;position: relative;background-color: white;}#sk-container-id-2 div.sk-parallel-item:first-child::after {align-self: flex-end;width: 50%;}#sk-container-id-2 div.sk-parallel-item:last-child::after {align-self: flex-start;width: 50%;}#sk-container-id-2 div.sk-parallel-item:only-child::after {width: 0;}#sk-container-id-2 div.sk-dashed-wrapped {border: 1px dashed gray;margin: 0 0.4em 0.5em 0.4em;box-sizing: border-box;padding-bottom: 0.4em;background-color: white;}#sk-container-id-2 div.sk-label label {font-family: monospace;font-weight: bold;display: inline-block;line-height: 1.2em;}#sk-container-id-2 div.sk-label-container {text-align: center;}#sk-container-id-2 div.sk-container {/* jupyter's `normalize.less` sets `[hidden] { display: none; }` but bootstrap.min.css set `[hidden] { display: none !important; }` so we also need the `!important` here to be able to override the default hidden behavior on the sphinx rendered scikit-learn.org. See: https://github.com/scikit-learn/scikit-learn/issues/21755 */display: inline-block !important;position: relative;}#sk-container-id-2 div.sk-text-repr-fallback {display: none;}</style><div id=\"sk-container-id-2\" class=\"sk-top-container\"><div class=\"sk-text-repr-fallback\"><pre>LinearRegression()</pre><b>In a Jupyter environment, please rerun this cell to show the HTML representation or trust the notebook. <br />On GitHub, the HTML representation is unable to render, please try loading this page with nbviewer.org.</b></div><div class=\"sk-container\" hidden><div class=\"sk-item\"><div class=\"sk-estimator sk-toggleable\"><input class=\"sk-toggleable__control sk-hidden--visually\" id=\"sk-estimator-id-2\" type=\"checkbox\" checked><label for=\"sk-estimator-id-2\" class=\"sk-toggleable__label sk-toggleable__label-arrow\">LinearRegression</label><div class=\"sk-toggleable__content\"><pre>LinearRegression()</pre></div></div></div></div></div>"
            ],
            "text/plain": [
              "LinearRegression()"
            ]
          },
          "execution_count": 62,
          "metadata": {},
          "output_type": "execute_result"
        }
      ],
      "source": [
        "#YOUR CODE HERE\n",
        "from sklearn.linear_model import LinearRegression\n",
        "\n",
        "linear_regressor = LinearRegression() # construct our estimator\n",
        "\n",
        "linear_regressor.fit(X_train_val_s, y_train_val) # trains the estimator with our standardized training values\n",
        "# we should use X_train for linear regressor\n"
      ]
    },
    {
      "cell_type": "markdown",
      "metadata": {
        "id": "GnTS33j94eZ3"
      },
      "source": [
        "> **Prediction from our model**\n",
        "\n",
        "Let us grab predictions off our test set and see how well it did!"
      ]
    },
    {
      "cell_type": "code",
      "execution_count": 63,
      "metadata": {
        "id": "enHG4bpB4vO-"
      },
      "outputs": [],
      "source": [
        "#YOUR CODE HERE\n",
        "\n",
        "y_prediction = linear_regressor.predict(X_test_s)\n"
      ]
    },
    {
      "cell_type": "markdown",
      "metadata": {
        "id": "q-CbVXA_3bhv"
      },
      "source": [
        "> **Evaluation the model**\n",
        "\n",
        "Let's evaluate the model by computing the MAE, MSE, and RMSE metrics and print out the results. Please round the three numbers to 2 places.\n"
      ]
    },
    {
      "cell_type": "code",
      "execution_count": 64,
      "metadata": {
        "id": "9xsfqlLr5G4x"
      },
      "outputs": [
        {
          "name": "stdout",
          "output_type": "stream",
          "text": [
            "Mean absolute error: 3.14\n",
            "Mean squared error: 23.03\n",
            "Root Mean Squared Error: 4.80\n"
          ]
        }
      ],
      "source": [
        "#YOUR CODE HERE\n",
        "from sklearn.metrics import mean_absolute_error, mean_squared_error\n",
        "\n",
        "# The mean squared error\n",
        "print(\"Mean absolute error: %.2f\" % mean_absolute_error(y_test, y_prediction))\n",
        "lr_mse = mean_squared_error(y_test, y_prediction)\n",
        "print(\"Mean squared error: %.2f\" % lr_mse) # we use the test set because we are evaluating the efficaccy of our model\n",
        "print(\"Root Mean Squared Error: %.2f\" % mean_squared_error(y_test, y_prediction,squared=False))\n"
      ]
    },
    {
      "cell_type": "code",
      "execution_count": 65,
      "metadata": {
        "id": "vt8Nw93i7Gyn"
      },
      "outputs": [
        {
          "data": {
            "image/png": "[encoded data removed]",
            "text/plain": [
              "<Figure size 640x480 with 1 Axes>"
            ]
          },
          "metadata": {},
          "output_type": "display_data"
        }
      ],
      "source": [
        "# Produce a scatter plot with the representation of the real value of the label vs. the estimated value obtained for the training set.\n",
        "# YOUR CODE HERE\n",
        "\n",
        "# plt.scatter(X_test_s, y_test)\n",
        "# plt.plot(X_test_s, y_prediction)\n",
        "# plt.show()\n",
        "\n",
        "\n",
        "#ASK\n",
        "#s_train_lr = linear_regressor.predict(X_train_val_s)\n",
        "# plt.scatter(y_train_val, y_prediction)\n",
        "# p1 = max(max(y_prediction), max(y_train_val))\n",
        "# p2 = min(min(y_prediction), min(y_train_val))\n",
        "# plt.plot([p1, p2], [p1, p2], 'r-')\n",
        "# plt.xlabel('Real values')\n",
        "# plt.ylabel('Predicted values')\n",
        "# plt.show()\n",
        "\n",
        "s_train_lr = linear_regressor.predict(X_train_val_s) # prediction over train model\n",
        "plt.scatter(y_train_val, s_train_lr) # target vs estimated target\n",
        "# to grab max and min values of el \"hiperplano\"\n",
        "p1 = max(max(s_train_lr), max(y_train_val))\n",
        "p2 = min(min(s_train_lr), min(y_train_val))\n",
        "plt.plot([p1, p2], [p1, p2], 'r-')\n",
        "plt.xlabel('Real values')\n",
        "plt.ylabel('Predicted values')\n",
        "plt.show()\n"
      ]
    },
    {
      "cell_type": "markdown",
      "metadata": {
        "id": "HNOcV7j69Evz"
      },
      "source": [
        "Having a look at the scatter plot, are there outliers in the dataset? Justify your answer.\n",
        "\n",
        "$\\underline{\\text{Note}}$: An outlier is a sample or observation that is an abnormal distance from other samples. In other words, it is data that lies outside the other values in the set. \n",
        "If you had Pinocchio in a class of children, the length of his nose compared to the other children, would be an outlier. \n",
        "\n",
        "\n",
        "<font color = 'green'> YOUR ANSWER HERE\n",
        "\n",
        "Yes, there are outlies, for example at 25, 40 and the higher x=50n values"
      ]
    },
    {
      "cell_type": "markdown",
      "metadata": {
        "id": "Mw5LBJb8KN7G"
      },
      "source": [
        "###2.3.2 Linear Ridge Regression\n",
        "\n",
        "> **Selecting the best value of alpha**\n",
        "\n",
        "The first task here is to obtain a reasonable value of `alpha` for the linear Ridge regressor. In this assignment the corresponding ranges that will be explored for `alpha` are: `[0.1, 1, 5, 10, 20, 25, 30, 40, 50]`. For each value of `alpha`, compute the MSE for the validation set and plot all the metrics in the same figure.\n",
        "\n",
        "*   First, import the package: `from sklearn.linear_model import Ridge`\n",
        "*   Then, create the model object.\n",
        "*   Next, fit the training data. This creates a trained model (an object) of class regression.\n",
        "*   Then, compute the MSE for the validation data and keep it in a 1D array.\n"
      ]
    },
    {
      "cell_type": "code",
      "execution_count": 66,
      "metadata": {
        "id": "pPNqeJy7KlvL"
      },
      "outputs": [
        {
          "name": "stdout",
          "output_type": "stream",
          "text": [
            "20\n"
          ]
        }
      ],
      "source": [
        "# YOUR CODE HERE\n",
        "from sklearn.linear_model import Ridge\n",
        "\n",
        "#format is the same as the linear\n",
        "#in ridge we have a disferent cost function\n",
        "#we have a diferent regularization term\n",
        "\n",
        "# to find alpha and train the model, use the train_s sets\n",
        "# then to predict use the validation set and compute the errors with the y_validation vector[0.1, 1, 5, 10, 20, 25, 30, 40, 50]\n",
        "\n",
        "alpha_list = [0.1, 1, 5, 10, 20, 25, 30, 40, 50]\n",
        "#print(len(alpha_list))\n",
        "\n",
        "# print(alpha_list.size()) # dont work\n",
        "\n",
        "lowest = 10000 #initial huge value for MSE\n",
        "\n",
        "for i in range (len(alpha_list)):\n",
        "    # calculate each mse, alpha with lowest mse is best\n",
        "\n",
        "    new_ridge = Ridge(alpha=alpha_list[i]).fit(X_train_val_s, y_train_val)\n",
        "    nr_y_prediction = new_ridge.predict(X_val_s)\n",
        "    \n",
        "    actual = mean_squared_error(y_val, nr_y_prediction) # we use the validation set to find these params, not the test\n",
        "    # print(actual)\n",
        "    if actual < lowest:\n",
        "        lowest = actual\n",
        "        best_alpha = alpha_list[i]\n",
        "\n",
        "print(best_alpha)\n"
      ]
    },
    {
      "cell_type": "markdown",
      "metadata": {
        "id": "ghLm58u3DAil"
      },
      "source": [
        "What is the best value for `alpha`?\n",
        "\n",
        "<font color = 'green'> YOUR ANSWER HERE"
      ]
    },
    {
      "cell_type": "markdown",
      "metadata": {
        "id": "1LuhbP4yGltd"
      },
      "source": [
        "> **Training and evaluating the model**\n",
        "\n",
        "*   Now, create a model object.\n",
        "*   Next, fit the training data with the best value of alpha.\n",
        "*   Let us evaluate the model by computing the MAE, MSE, and RMSE metrics (over the test set) and print out the results. Please round the three numbers to 2 places."
      ]
    },
    {
      "cell_type": "code",
      "execution_count": 67,
      "metadata": {
        "id": "p60CB9sqGk9y"
      },
      "outputs": [
        {
          "name": "stdout",
          "output_type": "stream",
          "text": [
            "Mean absolute error: 3.14\n",
            "Mean squared error: 23.13\n",
            "Root Mean Squared Error: 4.81\n"
          ]
        }
      ],
      "source": [
        "# YOUR CODE HERE\n",
        "\n",
        "ridge_regressor = Ridge(alpha=best_alpha).fit(X_train_val_s, y_train_val) # trains the estimator with our standardized training values\n",
        "\n",
        "r_y_prediction = ridge_regressor.predict(X_test_s)\n",
        "\n",
        "print(\"Mean absolute error: %.2f\" % mean_absolute_error(y_test, r_y_prediction))\n",
        "r_mse = mean_squared_error(y_test, r_y_prediction)\n",
        "print(\"Mean squared error: %.2f\" % r_mse)\n",
        "print(\"Root Mean Squared Error: %.2f\" % mean_squared_error(y_test, r_y_prediction,squared=False))\n"
      ]
    },
    {
      "cell_type": "code",
      "execution_count": 68,
      "metadata": {
        "id": "uHKyb3K6UJa1"
      },
      "outputs": [
        {
          "data": {
            "image/png": "[encoded data removed]",
            "text/plain": [
              "<Figure size 640x480 with 1 Axes>"
            ]
          },
          "metadata": {},
          "output_type": "display_data"
        }
      ],
      "source": [
        "# Produce a scatter plot with the representation of the real value of the label vs the estimated value with the best value of alpha for the training set.\n",
        "# YOUR CODE HERE\n",
        "\n",
        "s_train_lr = ridge_regressor.predict(X_train_val_s)\n",
        "plt.scatter(y_train_val, s_train_lr)\n",
        "p1 = max(max(s_train_lr), max(y_train_val))\n",
        "p2 = min(min(s_train_lr), min(y_train_val))\n",
        "plt.plot([p1, p2], [p1, p2], 'r-')\n",
        "plt.xlabel('Real values')\n",
        "plt.ylabel('Predicted values')\n",
        "plt.show()\n"
      ]
    },
    {
      "cell_type": "markdown",
      "metadata": {
        "id": "z8DNMTXrIRXG"
      },
      "source": [
        "###2.3.3 Linear Lasso Regression\n",
        "\n",
        "> **Selecting the best value of alpha**\n",
        "\n",
        "As previously, the first task is to obtain a reasonable value of `alpha` for the Lasso regressor. \n",
        "\n",
        "In this assignment, the corresponding ranges that will be explored for `alpha` are: `[0.001, 0.01, 0.05, 0.1, 1, 5, 10]`. For each value of `alpha`, compute the MSE for the validation set and plot all the metrics in the same figure.\n",
        "\n",
        "*   First, import the package: from `sklearn.linear_model import Lasso`\n",
        "*   Then, create the model object.\n",
        "*   Next, fit the subtraining data. This creates a trained model (an object) of class regression.\n",
        "*   Then, compute the MAE for the validation data and keep it in a 1D array. Draw the alpha values in a log scale to analyze them well.\n",
        "\n"
      ]
    },
    {
      "cell_type": "code",
      "execution_count": 69,
      "metadata": {
        "id": "zVEmTaOXI24n"
      },
      "outputs": [
        {
          "name": "stdout",
          "output_type": "stream",
          "text": [
            "0.1\n"
          ]
        }
      ],
      "source": [
        "# YOUR CODE HERE\n",
        "from operator import ne\n",
        "from sklearn.linear_model import Lasso\n",
        "\n",
        "alpha_list = [0.001, 0.01, 0.05, 0.1, 1, 5, 10]\n",
        "\n",
        "new_lasso = Lasso() #.fit(X_train_val, y_train_val)\n",
        "# DO EMPTY LASSO MODEL and then set_params to find alpha\n",
        "# then input lowest alpha, from lowest MAE\n",
        "\n",
        "lowest = 1000 # high MAE \n",
        "#mae for the prettier graphic MSE works the same too all errors will be smaller, dont matter which u use\n",
        "\n",
        "for i in range(len(alpha_list)):\n",
        "    \n",
        "    new_lasso.set_params(alpha=alpha_list[i]).fit(X_train_val_s, y_train_val)\n",
        "    nl_y_prediction = new_lasso.predict(X_val_s)\n",
        "\n",
        "    actual = mean_absolute_error(y_val, nl_y_prediction) # we use the validation set to find these params, not the test\n",
        "    #print(actual)\n",
        "    if actual < lowest:\n",
        "        lowest = actual\n",
        "        best_alpha = alpha_list[i]\n",
        "\n",
        "print(best_alpha)\n"
      ]
    },
    {
      "cell_type": "markdown",
      "metadata": {
        "id": "1PJm337W_58-"
      },
      "source": [
        "What is the best value for `alpha`?\n",
        "\n",
        "<font color = 'green'> YOUR ANSWER HERE"
      ]
    },
    {
      "cell_type": "markdown",
      "metadata": {
        "id": "unZBJyLWKR-2"
      },
      "source": [
        "> **Training and evaluating the model**\n",
        "\n",
        "*   Now, create a model object.\n",
        "*   Next, fit the training data with the best value of `alpha`.\n",
        "*   Let's evaluate the model by computing the MAE, MSE, and RMSE metrics (over the test set) and print out the results. Please round the three metrics to 2 places."
      ]
    },
    {
      "cell_type": "code",
      "execution_count": 70,
      "metadata": {
        "id": "Anywm-slKWQU"
      },
      "outputs": [
        {
          "name": "stdout",
          "output_type": "stream",
          "text": [
            "Mean absolute error: 3.19\n",
            "Mean squared error: 24.01\n",
            "Root Mean Squared Error: 4.90\n"
          ]
        }
      ],
      "source": [
        "# YOUR CODE HERE\n",
        "#input best alpha inside lasso\n",
        "\n",
        "lasso_regressor = Lasso(alpha=best_alpha).fit(X_train_val_s, y_train_val)\n",
        "\n",
        "l_y_prediction = lasso_regressor.predict(X_test_s)\n",
        "\n",
        "print(\"Mean absolute error: %.2f\" % mean_absolute_error(y_test, l_y_prediction))\n",
        "l_mse = mean_squared_error(y_test, l_y_prediction)\n",
        "print(\"Mean squared error: %.2f\" % l_mse) # we use the test set because we are evaluating the efficaccy of our model\n",
        "print(\"Root Mean Squared Error: %.2f\" % mean_squared_error(y_test, l_y_prediction, squared=False))\n"
      ]
    },
    {
      "cell_type": "markdown",
      "metadata": {
        "id": "NL92p6MMzZA9"
      },
      "source": [
        "### 2.3.4 Kernel Ridge Regression\n",
        "\n",
        "> **Selecting the best values of alpha and gamma**\n",
        "\n",
        "The kernel used is `rbf`. RBF kernels are the most generalized form of kernelization and are one of the most widely used kernels due to their similarity to the Gaussian distribution.\n",
        "\n",
        "\n",
        "Therefore, the first task is to obtain a reasonable value of `alpha` and `gamma` for the Kernel Ridge regressor. \n",
        "\n",
        "In this assignment the corresponding ranges that will be explored for `alpha` are: `[0.001, 0.01, .1, 1]` and for `gamma`: `[0.1, 1, 10, 20, 30, 50, 75, 100]`. For each value of `alpha` and `gamma`, compute the MSE for the validation set and plot all the metrics in the same figure.\n",
        "\n",
        "*   First, import the package: from `sklearn.kernel_ridge import KernelRidge`\n",
        "*   Then, create the model object.\n",
        "*   Next, fit the training data. This creates a trained model (an object) of class regression.\n",
        "*   Then, compute the MSE for the validation data and keep it in a 2D array.\n",
        "\n",
        " "
      ]
    },
    {
      "cell_type": "code",
      "execution_count": 71,
      "metadata": {
        "id": "Pd2D8ndeZyL2"
      },
      "outputs": [
        {
          "name": "stdout",
          "output_type": "stream",
          "text": [
            "best alpha: 0.01\n",
            "best gamma: 0.1\n"
          ]
        }
      ],
      "source": [
        "# YOUR CODE HERE\n",
        "from sklearn.kernel_ridge import KernelRidge\n",
        "\n",
        "# kernel_ridge = KernelRidge().fit(X_train_val_s, y_train_val)\n",
        "\n",
        "alpha_list = [0.001, 0.01, .1, 1]\n",
        "gamma_list = [0.1, 1, 10, 20, 30, 50, 75, 100]\n",
        "\n",
        "lowest = 10000 # high asf mse\n",
        "#find both params with two nested for\n",
        "for i in range (len(alpha_list)):\n",
        "    for j in range (len(gamma_list)):\n",
        "        new_kernel_ridge = KernelRidge(alpha=alpha_list[i], gamma=gamma_list[j], kernel=\"rbf\")\n",
        "        new_kernel_ridge.fit(X_train_val_s, y_train_val)\n",
        "        \n",
        "        nkr_y_prediction = new_kernel_ridge.predict(X_val_s)\n",
        "\n",
        "        actual = mean_squared_error(y_val, nkr_y_prediction) # we use the validation set to find these params, not the test\n",
        "\n",
        "        #print(actual)\n",
        "        \n",
        "        if actual < lowest:\n",
        "            lowest = actual\n",
        "            best_alpha = alpha_list[i]\n",
        "            best_gamma = gamma_list[j]\n",
        "\n",
        "print(\"best alpha:\", best_alpha)\n",
        "print(\"best gamma:\", best_gamma)\n",
        "\n",
        "#best values should be\n",
        "#alpha = 0,01\n",
        "#gamma = 0,1\n"
      ]
    },
    {
      "cell_type": "markdown",
      "metadata": {
        "id": "KUjEmH3SBJsp"
      },
      "source": [
        "What is the best value for `gamma`? And for `alpha`?\n",
        "\n",
        "<font color = 'green'> YOUR ANSWER HERE"
      ]
    },
    {
      "cell_type": "markdown",
      "metadata": {
        "id": "K8zYJdaoShBK"
      },
      "source": [
        "> **Training and evaluating the model**\n",
        "\n",
        "*   Now, create a `Kernel Ridge Regression` model object.\n",
        "*   Next, fit the training data with the best value of `alpha` and `gamma` \n",
        "*   Let us evaluate the model by computing the MAE, MSE, and RMSE metrics (over the test set) and print out the results. Please round the three metrics to 2 places."
      ]
    },
    {
      "cell_type": "code",
      "execution_count": 72,
      "metadata": {
        "id": "-olg6PsnTUvm"
      },
      "outputs": [
        {
          "name": "stdout",
          "output_type": "stream",
          "text": [
            "0.7815989933995071\n"
          ]
        }
      ],
      "source": [
        "# YOUR CODE HERE\n",
        "# fit training data with best aplha and gamma\n",
        "kernel_ridge = KernelRidge(alpha=best_alpha, gamma=best_gamma, kernel=\"rbf\").fit(X_train_val_s, y_train_val)\n",
        "\n",
        "kr_y_prediction = kernel_ridge.predict(X_test_s)\n",
        "print(kernel_ridge.score(X_test_s, y_test)) #between -inf and 1, closer to 1 better, below 0 bad bad\n"
      ]
    },
    {
      "cell_type": "code",
      "execution_count": 73,
      "metadata": {},
      "outputs": [
        {
          "name": "stdout",
          "output_type": "stream",
          "text": [
            "Mean absolute error: 2.38\n",
            "Mean squared error: 16.27\n",
            "Root Mean Squared Error: 4.03\n"
          ]
        }
      ],
      "source": [
        "print(\"Mean absolute error: %.2f\" % mean_absolute_error(y_test, kr_y_prediction))\n",
        "kr_mse = mean_squared_error(y_test, kr_y_prediction)\n",
        "print(\"Mean squared error: %.2f\" % kr_mse) # we use the test set because we are evaluating the efficaccy of our model\n",
        "print(\"Root Mean Squared Error: %.2f\" % mean_squared_error(y_test, kr_y_prediction,squared=False))\n"
      ]
    },
    {
      "cell_type": "code",
      "execution_count": 74,
      "metadata": {
        "id": "mKdkkiy5HfcM"
      },
      "outputs": [
        {
          "data": {
            "image/png": "[encoded data removed]",
            "text/plain": [
              "<Figure size 640x480 with 1 Axes>"
            ]
          },
          "metadata": {},
          "output_type": "display_data"
        }
      ],
      "source": [
        "# Produce a scatter plot with the representation of the real value of the label vs the estimated value with the best values of alpha and gamma for the training set\n",
        "# YOUR CODE HERE\n",
        "\n",
        "# DEL PALO\n",
        "s_train_kr = kernel_ridge.predict(X_train_val_s)\n",
        "plt.scatter(y_train_val, s_train_kr)\n",
        "p1 = max(max(s_train_kr), max(y_train_val))\n",
        "p2 = min(min(s_train_kr), min(y_train_val))\n",
        "plt.plot([p1, p2], [p1, p2], 'r-')\n",
        "plt.xlabel('Real values')\n",
        "plt.ylabel('Predicted values')\n",
        "plt.show()"
      ]
    },
    {
      "cell_type": "markdown",
      "metadata": {
        "id": "tRHCe0hBBzBg"
      },
      "source": [
        "Is there any difference between this representation and that obtained for the other regressor explored in this assignment? \n",
        "\n",
        "<font color = 'green'> YOUR ANSWER HERE\n",
        "kernel ridge is the most adjusted to our train values"
      ]
    },
    {
      "cell_type": "markdown",
      "metadata": {
        "id": "qoN9ch9-Y7t4"
      },
      "source": [
        "# <font color = 'black'> 3. Role of each variable in the model </font>\n",
        "\n",
        "As was explained in the master class, models in Section 2 enable us to analyze the role of each variable within the predictive function $f(\\mathbf x)$."
      ]
    },
    {
      "cell_type": "markdown",
      "metadata": {
        "id": "nn7vLtelZNta"
      },
      "source": [
        "## 3.1. Linear regression case\n",
        "In the linear regression case\n",
        "$$\n",
        "f(\\mathbf x) = \\mathbf w^\\top \\mathbf x + w_0 = w_0 + \\sum_{k=1}^d w_kx_k\n",
        "$$each variable $x_k$ contribution to the predictive function is its value multiplied by the weight $w_k$.\n",
        "\n",
        "**Relate the value of $w_k$ with the relevance of $x_k$**.\n",
        "\n",
        "Retrieve the weights of the  linear regressor in Section 2.3.1 and compare this relevance of the variables based on these weights with the ranking of variables found in Subsection 1.1 (when you computed the correlation).\n",
        "\n",
        "**Hint:** Think about the sign and the absolute value of $w_k$."
      ]
    },
    {
      "cell_type": "code",
      "execution_count": 75,
      "metadata": {
        "id": "iZfQWiB4cK7z"
      },
      "outputs": [
        {
          "name": "stdout",
          "output_type": "stream",
          "text": [
            "Independent term (w0): \n",
            " 23.211740890688255\n",
            "Coefficients (w1-w13): \n",
            " [-1.10048593  0.67961757 -0.00757334  0.49906735 -1.51454784  3.97635616\n",
            " -0.76789524 -3.11550124  1.52197215 -1.3232906  -1.869868    1.54335031\n",
            " -2.61480922]\n",
            "Best 4 Params are in positions:\n",
            " [5, 7, 12, 10]\n"
          ]
        }
      ],
      "source": [
        "#YOUR CODE HERE\n",
        "print(\"Independent term (w0): \\n\", linear_regressor.intercept_)\n",
        "print(\"Coefficients (w1-w13): \\n\", linear_regressor.coef_) # ALL minus w0, from w1 to w13\n",
        "\n",
        "# do absolute value of wk's\n",
        "wks = abs(linear_regressor.coef_)\n",
        "#print(\"abs Coefficients (w1-w13): \\n\", wks)\n",
        "\n",
        "# convert to list since numpy arrays are fixed in size (cannot delete indexes)\n",
        "wks = wks.tolist()\n",
        "\n",
        "best4_params = []\n",
        "\n",
        "for i in range(4):\n",
        "    #4 max values\n",
        "    highest = np.max(wks)\n",
        "    best4_params.append(wks.index(highest))\n",
        "    # print(best4_params)\n",
        "    wks[wks.index(highest)] = -1 # will be lowest bc all values are positive (abs of lr_coef)\n",
        "\n",
        "print(\"Best 4 Params are in positions:\\n\", best4_params)\n"
      ]
    },
    {
      "cell_type": "markdown",
      "metadata": {
        "id": "QywugLE_AtA6"
      },
      "source": [
        "What is the most relevante feature? And the least one?\n",
        "\n",
        "<font color = 'green'> YOUR ANSWER HERE\n",
        "\n",
        "feature 5, then 6, then 10 and lastly 8\n"
      ]
    },
    {
      "cell_type": "markdown",
      "metadata": {
        "id": "YVbKiBpaLuVP"
      },
      "source": [
        "## 3.4 Linear regression with the best features"
      ]
    },
    {
      "cell_type": "markdown",
      "metadata": {
        "id": "ilSs4a-bavGT"
      },
      "source": [
        "Based on the previous results, **select the 4 most important features** and train and evaluate a linear regression model using only these features."
      ]
    },
    {
      "cell_type": "code",
      "execution_count": 76,
      "metadata": {
        "id": "dzQM1BxNbXar"
      },
      "outputs": [],
      "source": [
        "#YOUR CODE HERE\n",
        "\n",
        "# select 4 most important features: best4_params (from above)\n",
        "'''\n",
        "4 best features should be:\n",
        "RM\n",
        "SDIS\n",
        "LSTAT\n",
        "PTRATIO\n",
        "'''\n",
        "\n",
        "X_train_reduced = X_train_val_s[:,best4_params] # only mantain the colums from vecore best4_params in the dataset\n",
        "X_test_reduced=X_test_s[:,best4_params]\n",
        "\n",
        "# train and evaluate model with ONLY the 4 features\n",
        "best4 = LinearRegression().fit(X_train_reduced, y_train_val)\n",
        "b4_y_prediction = best4.predict(X_test_reduced)\n",
        "b4_mse = mean_squared_error(y_test, b4_y_prediction)\n",
        "\n",
        "# linear_regressor is our previous model with all features computed\n",
        "# compare linear_regressor with best4 below\n"
      ]
    },
    {
      "cell_type": "code",
      "execution_count": 77,
      "metadata": {},
      "outputs": [
        {
          "data": {
            "image/png": "[encoded data removed]",
            "text/plain": [
              "<Figure size 640x480 with 1 Axes>"
            ]
          },
          "metadata": {},
          "output_type": "display_data"
        }
      ],
      "source": [
        "#plot both and see\n",
        "\n",
        "s_train_b4 = best4.predict(X_train_reduced) # predicting with same set as the one used to fit the model???? NAH not right\n",
        "plt.scatter(y_train_val, s_train_b4)\n",
        "p1 = max(max(s_train_b4), max(y_train_val))\n",
        "p2 = min(min(s_train_b4), min(y_train_val))\n",
        "plt.plot([p1, p2], [p1, p2], 'r-')\n",
        "plt.xlabel('Real values')\n",
        "plt.ylabel('Predicted values')\n",
        "plt.show()\n"
      ]
    },
    {
      "cell_type": "code",
      "execution_count": 78,
      "metadata": {},
      "outputs": [
        {
          "data": {
            "image/png": "[encoded data removed]",
            "text/plain": [
              "<Figure size 640x480 with 1 Axes>"
            ]
          },
          "metadata": {},
          "output_type": "display_data"
        }
      ],
      "source": [
        "# SAME AS LINEAR REGRESSOR IN 2.3.1\n",
        "\n",
        "s_train_lr = linear_regressor.predict(X_train_val_s) # prediction over train model\n",
        "plt.scatter(y_train_val, s_train_lr) # target vs estimated target\n",
        "# to grab max and min values of el \"hiperplano\"\n",
        "p1 = max(max(s_train_lr), max(y_train_val))\n",
        "p2 = min(min(s_train_lr), min(y_train_val))\n",
        "plt.plot([p1, p2], [p1, p2], 'r-')\n",
        "plt.xlabel('Real values')\n",
        "plt.ylabel('Predicted values')\n",
        "plt.show()\n"
      ]
    },
    {
      "cell_type": "markdown",
      "metadata": {
        "id": "bSVZ-pQahj5r"
      },
      "source": [
        "Compare the abovementioned results with those obtained when using all the features. Is there any significant degradation in the results?\n",
        "\n",
        "<font color = 'green'> YOUR ANSWER HERE\n",
        "\n",
        "They are both pretty similar\n",
        "\n",
        "The one with only 4 params has a bit more disperse datapoints (I wonder why???)\n",
        "\n",
        "The OG linear regressor seems more tight\n",
        "\n",
        "the precision is basically the same for both, impressive for the one with only 4 params!!"
      ]
    },
    {
      "cell_type": "markdown",
      "metadata": {
        "id": "8Qir19NOSvtA"
      },
      "source": [
        "# <font color = 'black'> 5. Best regression model </font>\n",
        "\n",
        "It has always been said that we understand faster when we visualize data. In this last section of the assginment, we will find out which regression model is the best fit for our data!\n",
        "\n",
        "\n",
        "\n"
      ]
    },
    {
      "cell_type": "markdown",
      "metadata": {
        "id": "3fb5M3X_Uz5A"
      },
      "source": [
        "Reprsent, by using a barplot, the MSE obtained by each regression model evaluated in this assignment (with its best parameters) for the test set. Include also the value reached when using the 4 best features with a linear regression model.\n",
        "\n"
      ]
    },
    {
      "cell_type": "code",
      "execution_count": 79,
      "metadata": {
        "id": "ETqeOa4CWAqz"
      },
      "outputs": [
        {
          "data": {
            "image/png": "[encoded data removed]",
            "text/plain": [
              "<Figure size 640x480 with 1 Axes>"
            ]
          },
          "metadata": {},
          "output_type": "display_data"
        }
      ],
      "source": [
        "# YOUR CODE HERE\n",
        "\n",
        "# DID all MSEs before, make a bar plot\n",
        "# lr_mse, r_mse, l_mse, kr_mse, b4_mse\n",
        "\n",
        "estimator = ['Linear', 'Ridge', 'Lasso', 'Kernel Ridge', 'Best4']\n",
        "mses = [lr_mse, l_mse, r_mse, kr_mse, b4_mse]\n",
        "\n",
        "plt.bar(estimator, mses)\n",
        "plt.show()\n",
        "\n",
        "# should be kernel ridge because it has the most precise hyperplane\n"
      ]
    },
    {
      "cell_type": "markdown",
      "metadata": {
        "id": "J-7GUrydbsqj"
      },
      "source": [
        "### **This was your first real Machine Learning Project! Congrats on helping your neighbor out! We'll let this end here for now!**"
      ]
    }
  ],
  "metadata": {
    "colab": {
      "collapsed_sections": [],
      "provenance": []
    },
    "kernelspec": {
      "display_name": "Python 3.10.7 64-bit (microsoft store)",
      "language": "python",
      "name": "python3"
    },
    "language_info": {
      "codemirror_mode": {
        "name": "ipython",
        "version": 3
      },
      "file_extension": ".py",
      "mimetype": "text/x-python",
      "name": "python",
      "nbconvert_exporter": "python",
      "pygments_lexer": "ipython3",
      "version": "3.10.8"
    },
    "vscode": {
      "interpreter": {
        "hash": "0e5b5b920195072d4a4eec1d5ff9e5f87252d2725e2a57da6939cd4fcd91d4cd"
      }
    }
  },
  "nbformat": 4,
  "nbformat_minor": 0
}
